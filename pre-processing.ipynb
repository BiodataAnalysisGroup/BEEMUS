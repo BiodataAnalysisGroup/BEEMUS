{
 "cells": [
  {
   "cell_type": "code",
   "execution_count": 1,
   "id": "808f71bb-ff7b-432d-a28d-2c55d66aca06",
   "metadata": {
    "execution": {
     "iopub.execute_input": "2021-10-19T09:40:54.827680Z",
     "iopub.status.busy": "2021-10-19T09:40:54.827438Z",
     "iopub.status.idle": "2021-10-19T09:40:57.134640Z",
     "shell.execute_reply": "2021-10-19T09:40:57.134007Z",
     "shell.execute_reply.started": "2021-10-19T09:40:54.827624Z"
    },
    "tags": []
   },
   "outputs": [],
   "source": [
    "from os import listdir\n",
    "from os.path import isfile, join, split\n",
    "import os\n",
    "from tqdm.notebook import trange\n",
    "import re\n",
    "\n",
    "import numpy as np\n",
    "import pandas as pd\n",
    "\n",
    "import matplotlib\n",
    "import matplotlib.pyplot as plt\n",
    "from matplotlib.backends.backend_pdf import PdfPages\n",
    "import seaborn as sns\n",
    "import statistics\n",
    "\n",
    "\n",
    "\n",
    "from src.vcfs_parser import parser\n",
    "\n",
    "metadata_files_path = \"data/ENA_metadata\"\n",
    "lineages_files_path = \"data/lineages\"\n",
    "\n",
    "clinical_data_path = \"data/clinical_variant_files\"\n",
    "lineage_metadata_path = \"data/SARS-CoV-2 lineage meta data.csv\"\n",
    "genes_coordinates_path = \"data/NC_045512.2_annot.gff3\""
   ]
  },
  {
   "cell_type": "code",
   "execution_count": null,
   "id": "5b88a2e6-a16c-469c-b827-ce696b56d2ef",
   "metadata": {
    "tags": []
   },
   "outputs": [],
   "source": [
    "orf1a_sub_names = ['NSP'+str(i) for i in range(1, 11)]\n",
    "orf1b_sub_names = ['NSP12a', 'NSP12b'] + ['NSP'+str(i) for i in range(13,17)]\n",
    "\n",
    "genes_coordinates = pd.read_csv(genes_coordinates_path, delimiter='\\t', comment = '#', header = None)\n",
    "\n",
    "\n",
    "genes_coordinates = genes_coordinates.append({0: 'NC_045512.2', \\\n",
    "                                              1: 'Giorgi', \\\n",
    "                                              2: 'CDS', \\\n",
    "                                              3: genes_coordinates.loc[genes_coordinates[8].isin(orf1a_sub_names)][3].min(), \\\n",
    "                                              4: genes_coordinates.loc[genes_coordinates[8].isin(orf1a_sub_names)][4].max(), \\\n",
    "                                              5: '.', \\\n",
    "                                              6: '+', \\\n",
    "                                              7: '.', \\\n",
    "                                              8: 'ORF1a', \\\n",
    "                                              9: 'desc'} \\\n",
    "                                            ,ignore_index=True)\n",
    "\n",
    "genes_coordinates = genes_coordinates.append({0: 'NC_045512.2', \\\n",
    "                                              1: 'Giorgi', \\\n",
    "                                              2: 'CDS', \\\n",
    "                                              3: genes_coordinates.loc[genes_coordinates[8].isin(orf1b_sub_names)][3].min(), \\\n",
    "                                              4: genes_coordinates.loc[genes_coordinates[8].isin(orf1b_sub_names)][4].max(), \\\n",
    "                                              5: '.', \\\n",
    "                                              6: '+', \\\n",
    "                                              7: '.', \\\n",
    "                                              8: 'ORF1b', \\\n",
    "                                              9: 'desc'} \\\n",
    "                                            ,ignore_index=True)\n",
    "\n",
    "genes_coordinates.drop(labels = genes_coordinates[genes_coordinates[8].isin(orf1a_sub_names)].index, inplace = True)\n",
    "genes_coordinates.drop(labels = genes_coordinates[genes_coordinates[8].isin(orf1b_sub_names)].index, inplace = True)\n",
    "\n",
    "genes_coordinates.rename(columns={3: 'gene_start', 4: 'gene_end', 8: 'gene'}, inplace = True)\n",
    "genes_coordinates = genes_coordinates[['gene_start', 'gene_end', 'gene']].copy().set_index('gene')\n",
    "\n",
    "print(len(genes_coordinates), 'genes coordinates have been loaded.')"
   ]
  },
  {
   "cell_type": "code",
   "execution_count": null,
   "id": "098209d6-00b4-441e-aa0d-072a550d0dbb",
   "metadata": {
    "tags": []
   },
   "outputs": [],
   "source": [
    "lineage_metadata = pd.read_csv(lineage_metadata_path, index_col = 'INAB sample ID', skiprows = [1,2])\n",
    "print(len(lineage_metadata), 'samples with known lineages have been loaded.')\n",
    "\n",
    "lineage_metadata['lineage'] = lineage_metadata['lineage'].apply(lambda x: re.sub(r\" ?\\([^)]+\\)\", \"\", str(x)))\n",
    "lineage_metadata['lineage'] = lineage_metadata['lineage'].str.strip()\n",
    "lineage_metadata['lineage'] = lineage_metadata['lineage'].apply(lambda x: np.nan if (x in ['nan', '']) else x)"
   ]
  },
  {
   "cell_type": "code",
   "execution_count": null,
   "id": "ecec4d85-586d-4105-8982-b04ce2ad6e67",
   "metadata": {
    "scrolled": true,
    "tags": []
   },
   "outputs": [],
   "source": [
    "# Comment out these 4 lines to load the data from separate files - first attempt \n",
    "# metadata_files = [join(metadata_files_path, f) for f in listdir(metadata_files_path) if isfile(join(metadata_files_path, f)) if 'metadata' in f]\n",
    "# metadata = pd.concat([pd.read_csv(f, sep = '\\t', index_col = 'sample_alias', comment = '#') for f in metadata_files])\n",
    "# metadata.drop(axis = 1, labels = 'Unnamed: 18', inplace = True)\n",
    "# print(len(metadata_files), 'metadata files with', len(metadata), 'lineages have been loaded.')\n",
    "\n",
    "# Second attempt - load the metadata from the downloaded xml file after its conversion using the xmp_to_csv python script\n",
    "metadata = pd.read_csv('data/biosample_result.csv', index_col = 'Title')\n",
    "print(len(metadata), 'metadata samples have been loaded.')"
   ]
  },
  {
   "cell_type": "code",
   "execution_count": null,
   "id": "e0fa1414-0597-4d0f-8b23-5c78e0a4316d",
   "metadata": {
    "scrolled": true,
    "tags": []
   },
   "outputs": [],
   "source": [
    "metadata = pd.concat([lineage_metadata, metadata], axis = 1)"
   ]
  },
  {
   "cell_type": "code",
   "execution_count": null,
   "id": "6131ce1c-f168-402f-99c2-71eff5d1acc8",
   "metadata": {
    "tags": []
   },
   "outputs": [],
   "source": [
    "lineages = metadata['lineage'].unique().tolist()\n",
    "lineages = [i for i in lineages if pd.notna(i)]\n",
    "\n",
    "# comment out to download the files\n",
    "# for idx, lineage in enumerate(lineages):\n",
    "#     os.system('python scripts/scraper.py --lineage={}'.format(lineage))\n",
    "# print(idx+1, 'files have been downloaded')\n",
    "    \n",
    "lineages_files = [join(lineages_files_path, f) for f in listdir(lineages_files_path+'') if isfile(join(lineages_files_path, f)) and \\\n",
    "        any(f.startswith(substring+'_') for substring in lineages)]\n",
    "\n",
    "lineages_data = pd.concat([pd.read_csv(f, usecols = ['lineage','gene', 'ref_aa', 'alt_aa', 'codon_num', 'codon_end']) for f in lineages_files])\n",
    "lineages_data['codon_end'].replace({\"None\": np.nan}, inplace=True)\n",
    "lineages_data['codon_end'] = pd.to_numeric(lineages_data['codon_end'])\n",
    "\n",
    "# lineages_data\n",
    "lineages_data = pd.merge(lineages_data, genes_coordinates, how='left', on = 'gene', validate = 'many_to_one')\n",
    "\n",
    "# Calculate mutation start-end coordinates\n",
    "lineages_data = lineages_data.assign(mut_start = lambda x: ((x['codon_num'] * 3) + x['gene_start'] - 3))\n",
    "\n",
    "lineages_data['mut_end'] = lineages_data.apply(lambda x: ((x['codon_num'] * 3) + x['gene_start'] - 1) \\\n",
    "                                               if (pd.isna(x['codon_end'])) \\\n",
    "                                               else ((float(x['codon_end']) * 3) + x['gene_start'] - 1), \\\n",
    "                                              axis=1).astype('int64')"
   ]
  },
  {
   "cell_type": "code",
   "execution_count": null,
   "id": "0abd859d-903c-4e01-85e0-677b627b56d7",
   "metadata": {
    "tags": []
   },
   "outputs": [],
   "source": [
    "p = parser(clinical_data_path, metadata, lineages_data)\n",
    "p.convert_to_bin()\n",
    "data = p.data"
   ]
  },
  {
   "cell_type": "code",
   "execution_count": null,
   "id": "f4edb34f-6ac2-4090-8444-528a873bf3a7",
   "metadata": {
    "tags": []
   },
   "outputs": [],
   "source": [
    "result = pd.merge(data, metadata, how='left', left_index = True, right_index = True)\n",
    "msk = (result == 0).all() # get rid of columns containing only zeros\n",
    "# result = result.loc[:,~msk].copy()\n",
    "result.to_csv('data/dataset.csv')"
   ]
  },
  {
   "cell_type": "code",
   "execution_count": null,
   "id": "13fb179d-3b16-4a16-8d9c-da1b1e3c8d41",
   "metadata": {
    "tags": []
   },
   "outputs": [],
   "source": [
    "# fig, ax = plt.subplots()\n",
    "\n",
    "# for item in [fig, ax]:\n",
    "#     item.patch.set_visible(False)\n",
    "\n",
    "# # define the colors\n",
    "# cmap = matplotlib.colors.ListedColormap(['w', 'k', 'r'])\n",
    "\n",
    "# # create a normalize object the describes the limits of\n",
    "# # each color\n",
    "# bounds = [0., 0.5, 1.1, 2.1]\n",
    "# norm = matplotlib.colors.BoundaryNorm(bounds, cmap.N)\n",
    "\n",
    "# fig.colorbar(matplotlib.cm.ScalarMappable(norm=norm, cmap=cmap), ax=ax)\n",
    "\n",
    "# ax.xaxis.set_tick_params(pad=5, labelsize=4)\n",
    "# ax.yaxis.set_tick_params(pad=5, labelsize=4)\n",
    "\n",
    "# # plot it\n",
    "# ax.imshow(data.loc[:,~msk].astype(float), interpolation='none', cmap=cmap, norm=norm, )\n",
    "# fig.savefig('../new-test-mutations.pdf')  "
   ]
  },
  {
   "cell_type": "code",
   "execution_count": null,
   "id": "023f2e1a-75d4-457b-a274-65235471806c",
   "metadata": {
    "tags": []
   },
   "outputs": [],
   "source": [
    "# # this erases labels for any blank plots on the last page\n",
    "# sns.set(font_scale=0.0)\n",
    "# m, n = 3, 2\n",
    "# datasize = len(cols) # 39 % (m*n) = 15, 24 (m*n) - 15 thus should result in 9 blank subplots on final page\n",
    "# ctheme = [\n",
    "#     \"k\", \"gray\", \"magenta\", \"fuchsia\", \"#be03fd\", \"#1e488f\",\n",
    "#     (0.44313725490196076, 0.44313725490196076, 0.88627450980392153), \"#75bbfd\",\n",
    "#     \"teal\", \"lime\", \"g\", (0.6666674, 0.6666663, 0.29078014184397138), \"y\",\n",
    "#     \"#f1da7a\", \"tan\", \"orange\", \"maroon\", \"r\", ] # pick whatever colors you wish\n",
    "# colors = sns.blend_palette(ctheme, datasize)\n",
    "# fz = 5  # labels fontsize\n",
    "\n",
    "\n",
    "# def new_page(m, n):\n",
    "#     global splot_index\n",
    "#     splot_index = 0\n",
    "#     fig, axarr = plt.subplots(m, n, sharey=\"row\")\n",
    "#     plt.subplots_adjust(hspace=0.5, wspace=0.15)\n",
    "#     arr_ij = [(x, y) for x, y in np.ndindex(axarr.shape)]\n",
    "#     subplots = [axarr[index] for index in arr_ij]\n",
    "#     for s, splot in enumerate(subplots):\n",
    "#         splot.grid(\n",
    "#             b=True,\n",
    "#             which=\"major\",\n",
    "#             color=\"gray\",\n",
    "#             linestyle=\"-\",\n",
    "#             alpha=0.25,\n",
    "#             zorder=1,\n",
    "#             lw=0.5,\n",
    "#         )\n",
    "#         last_row = m * n - s < n + 1\n",
    "#         first_in_row = s % n == 0\n",
    "#         if last_row:\n",
    "#             splot.set_xlabel(\"X-axis label\", labelpad=8, fontsize=fz)\n",
    "#         if first_in_row:\n",
    "#             splot.set_ylabel(\"Y-axis label\", labelpad=8, fontsize=fz)\n",
    "#     return (fig, subplots)\n",
    "\n",
    "\n",
    "# with PdfPages(\"auto_subplotting_colors.pdf\") as pdf:\n",
    "#     fig, subplots = new_page(m, n)\n",
    "\n",
    "#     for sample in trange(datasize):\n",
    "#         splot = subplots[splot_index]\n",
    "#         splot_index += 1\n",
    "#         splot.scatter(\n",
    "#             range(len(data[:,1])),\n",
    "#             data[:,cols[sample]],\n",
    "#             s=5\n",
    "#         )\n",
    "#         splot.set_title(\"Sample {}\".format(cols[sample]), fontsize=fz)\n",
    "#         # tick fontsize & spacing\n",
    "#         splot.xaxis.set_tick_params(pad=4, labelsize=6)\n",
    "#         splot.yaxis.set_tick_params(pad=4, labelsize=6)\n",
    "\n",
    "#         # make new page:\n",
    "#         if splot_index == m * n:\n",
    "#             pdf.savefig()\n",
    "#             plt.close(fig)\n",
    "#             fig, subplots = new_page(m, n)\n",
    "\n",
    "#     if splot_index > 0:\n",
    "#         pdf.savefig()\n",
    "#         plt.close(fig)"
   ]
  }
 ],
 "metadata": {
  "kernelspec": {
   "display_name": "Python [conda env:sars-cov-2]",
   "language": "python",
   "name": "conda-env-sars-cov-2-py"
  },
  "language_info": {
   "codemirror_mode": {
    "name": "ipython",
    "version": 3
   },
   "file_extension": ".py",
   "mimetype": "text/x-python",
   "name": "python",
   "nbconvert_exporter": "python",
   "pygments_lexer": "ipython3",
   "version": "3.9.7"
  }
 },
 "nbformat": 4,
 "nbformat_minor": 5
}

{
 "cells": [
  {
   "cell_type": "code",
   "execution_count": 1,
   "id": "808f71bb-ff7b-432d-a28d-2c55d66aca06",
   "metadata": {
    "execution": {
     "iopub.execute_input": "2021-09-13T15:27:37.207923Z",
     "iopub.status.busy": "2021-09-13T15:27:37.207684Z",
     "iopub.status.idle": "2021-09-13T15:27:37.756073Z",
     "shell.execute_reply": "2021-09-13T15:27:37.755376Z",
     "shell.execute_reply.started": "2021-09-13T15:27:37.207857Z"
    },
    "tags": []
   },
   "outputs": [],
   "source": [
    "from pysam import VariantFile\n",
    "from os import listdir\n",
    "from os.path import isfile, join, split\n",
    "from tqdm.notebook import trange\n",
    "\n",
    "import numpy as np\n",
    "\n",
    "import matplotlib\n",
    "import matplotlib.pyplot as plt\n",
    "from matplotlib.backends.backend_pdf import PdfPages\n",
    "import seaborn as sns\n",
    "import statistics\n",
    "import pandas as pd\n",
    "\n",
    "clinical_data_path = \"clinical_variant_files\"\n",
    "metadata_files_path = \"ENA_metadata\""
   ]
  },
  {
   "cell_type": "code",
   "execution_count": 2,
   "id": "098209d6-00b4-441e-aa0d-072a550d0dbb",
   "metadata": {
    "execution": {
     "iopub.execute_input": "2021-09-13T15:27:37.756869Z",
     "iopub.status.busy": "2021-09-13T15:27:37.756751Z",
     "iopub.status.idle": "2021-09-13T15:27:37.773605Z",
     "shell.execute_reply": "2021-09-13T15:27:37.772487Z",
     "shell.execute_reply.started": "2021-09-13T15:27:37.756855Z"
    },
    "tags": []
   },
   "outputs": [
    {
     "name": "stdout",
     "output_type": "stream",
     "text": [
      "3200 known lineages have been loaded.\n"
     ]
    }
   ],
   "source": [
    "lineage_meta_data = pd.read_csv('SARS-CoV-2 lineage meta data.csv', index_col = 'INAB sample ID', skiprows = [1,2])\n",
    "print(len(lineage_meta_data), 'known lineages have been loaded.')"
   ]
  },
  {
   "cell_type": "code",
   "execution_count": 3,
   "id": "ecec4d85-586d-4105-8982-b04ce2ad6e67",
   "metadata": {
    "execution": {
     "iopub.execute_input": "2021-09-13T15:27:37.776376Z",
     "iopub.status.busy": "2021-09-13T15:27:37.775792Z",
     "iopub.status.idle": "2021-09-13T15:27:37.902189Z",
     "shell.execute_reply": "2021-09-13T15:27:37.901494Z",
     "shell.execute_reply.started": "2021-09-13T15:27:37.776353Z"
    },
    "scrolled": true,
    "tags": []
   },
   "outputs": [
    {
     "name": "stdout",
     "output_type": "stream",
     "text": [
      "20 metadata files have been loaded.\n",
      "3155 lineages have been loaded.\n"
     ]
    }
   ],
   "source": [
    "metadata_files = [join(metadata_files_path, f) for f in listdir(metadata_files_path) if isfile(join(metadata_files_path, f)) if 'metadata' in f]\n",
    "print(len(metadata_files), 'metadata files have been loaded.')\n",
    "\n",
    "metadata = pd.concat([pd.read_csv(f, sep = '\\t', index_col = 'sample_alias', comment = '#') for f in metadata_files])\n",
    "metadata.drop(axis = 1, labels = 'Unnamed: 18', inplace = True)\n",
    "\n",
    "print(len(metadata), 'lineages have been loaded.')"
   ]
  },
  {
   "cell_type": "code",
   "execution_count": 4,
   "id": "e0fa1414-0597-4d0f-8b23-5c78e0a4316d",
   "metadata": {
    "execution": {
     "iopub.execute_input": "2021-09-13T15:27:37.903005Z",
     "iopub.status.busy": "2021-09-13T15:27:37.902875Z",
     "iopub.status.idle": "2021-09-13T15:27:37.909898Z",
     "shell.execute_reply": "2021-09-13T15:27:37.908841Z",
     "shell.execute_reply.started": "2021-09-13T15:27:37.902990Z"
    },
    "tags": []
   },
   "outputs": [],
   "source": [
    "metadata_lineages = pd.concat([lineage_meta_data, metadata], axis = 1)"
   ]
  },
  {
   "cell_type": "code",
   "execution_count": 5,
   "id": "0abd859d-903c-4e01-85e0-677b627b56d7",
   "metadata": {
    "execution": {
     "iopub.execute_input": "2021-09-13T15:27:37.911412Z",
     "iopub.status.busy": "2021-09-13T15:27:37.910986Z",
     "iopub.status.idle": "2021-09-13T15:27:52.828318Z",
     "shell.execute_reply": "2021-09-13T15:27:52.827675Z",
     "shell.execute_reply.started": "2021-09-13T15:27:37.911391Z"
    },
    "tags": []
   },
   "outputs": [
    {
     "name": "stdout",
     "output_type": "stream",
     "text": [
      "3698 vcfs have been loaded.\n"
     ]
    }
   ],
   "source": [
    "vcfs = [f for f in listdir(clinical_data_path) if isfile(join(clinical_data_path, f))]\n",
    "vcfs_prefixes = [k.split('_', 1)[0] for k in vcfs]\n",
    "\n",
    "data = np.zeros((len(vcfs), 29903), dtype=bool) # init a bin table \n",
    "print(len(vcfs), 'vcfs have been loaded.')\n",
    "\n",
    "subs = []\n",
    "for i, file in enumerate(vcfs):\n",
    "    bcf_in = VariantFile(join(clinical_data_path, file))  # auto-detect input format\n",
    "#     bcf_out = VariantFile('-', 'w', header=bcf_in.header)\n",
    "\n",
    "    path, file = split(file)\n",
    "#     print(file)\n",
    "    count = 0\n",
    "    for rec in bcf_in.fetch():\n",
    "        data[i, rec.start : rec.stop] = 1\n",
    "        count = count + 1 \n",
    "    subs.append(count)\n",
    "#         print(data[0, rec.start : rec.stop])\n",
    "#         print (rec.alleles)\n",
    "#         print (rec.pos, rec.start, rec.stop)\n",
    "#     time.sleep(2)\n",
    "data = pd.DataFrame(data = data, index = vcfs_prefixes, dtype = 'int8')"
   ]
  },
  {
   "cell_type": "code",
   "execution_count": 6,
   "id": "3d77a290-97dd-477c-86a4-6759c974078f",
   "metadata": {
    "execution": {
     "iopub.execute_input": "2021-09-13T15:27:52.829116Z",
     "iopub.status.busy": "2021-09-13T15:27:52.828971Z",
     "iopub.status.idle": "2021-09-13T15:27:56.403304Z",
     "shell.execute_reply": "2021-09-13T15:27:56.402710Z",
     "shell.execute_reply.started": "2021-09-13T15:27:52.829101Z"
    },
    "tags": []
   },
   "outputs": [],
   "source": [
    "result = pd.merge(data, metadata_lineages, how='left', left_index = True, right_index = True)\n",
    "msk = (result == 0).all()\n",
    "result.loc[:,~msk].to_csv('dataset.csv')"
   ]
  },
  {
   "cell_type": "code",
   "execution_count": 7,
   "id": "13fb179d-3b16-4a16-8d9c-da1b1e3c8d41",
   "metadata": {
    "execution": {
     "iopub.execute_input": "2021-09-13T15:27:56.404130Z",
     "iopub.status.busy": "2021-09-13T15:27:56.403991Z",
     "iopub.status.idle": "2021-09-13T15:27:56.413125Z",
     "shell.execute_reply": "2021-09-13T15:27:56.411863Z",
     "shell.execute_reply.started": "2021-09-13T15:27:56.404116Z"
    },
    "tags": []
   },
   "outputs": [],
   "source": [
    "# fig, ax = plt.subplots()\n",
    "\n",
    "# for item in [fig, ax]:\n",
    "#     item.patch.set_visible(False)\n",
    "\n",
    "# # define the colors\n",
    "# cmap = matplotlib.colors.ListedColormap(['w', 'k'])\n",
    "\n",
    "# # create a normalize object the describes the limits of\n",
    "# # each color\n",
    "# bounds = [0., 0.5, 1.]\n",
    "# norm = matplotlib.colors.BoundaryNorm(bounds, cmap.N)\n",
    "\n",
    "# ax.xaxis.set_tick_params(pad=5, labelsize=4)\n",
    "# ax.yaxis.set_tick_params(pad=5, labelsize=4)\n",
    "\n",
    "# # plot it\n",
    "# ax.imshow(data[:,cols], interpolation='none', cmap=cmap, norm=norm)\n",
    "# fig.savefig('test-mutations.pdf')  "
   ]
  },
  {
   "cell_type": "code",
   "execution_count": 8,
   "id": "023f2e1a-75d4-457b-a274-65235471806c",
   "metadata": {
    "execution": {
     "iopub.execute_input": "2021-09-13T15:27:56.414852Z",
     "iopub.status.busy": "2021-09-13T15:27:56.414525Z",
     "iopub.status.idle": "2021-09-13T15:27:56.427248Z",
     "shell.execute_reply": "2021-09-13T15:27:56.425883Z",
     "shell.execute_reply.started": "2021-09-13T15:27:56.414807Z"
    },
    "tags": []
   },
   "outputs": [],
   "source": [
    "# # this erases labels for any blank plots on the last page\n",
    "# sns.set(font_scale=0.0)\n",
    "# m, n = 3, 2\n",
    "# datasize = len(cols) # 39 % (m*n) = 15, 24 (m*n) - 15 thus should result in 9 blank subplots on final page\n",
    "# ctheme = [\n",
    "#     \"k\", \"gray\", \"magenta\", \"fuchsia\", \"#be03fd\", \"#1e488f\",\n",
    "#     (0.44313725490196076, 0.44313725490196076, 0.88627450980392153), \"#75bbfd\",\n",
    "#     \"teal\", \"lime\", \"g\", (0.6666674, 0.6666663, 0.29078014184397138), \"y\",\n",
    "#     \"#f1da7a\", \"tan\", \"orange\", \"maroon\", \"r\", ] # pick whatever colors you wish\n",
    "# colors = sns.blend_palette(ctheme, datasize)\n",
    "# fz = 5  # labels fontsize\n",
    "\n",
    "\n",
    "# def new_page(m, n):\n",
    "#     global splot_index\n",
    "#     splot_index = 0\n",
    "#     fig, axarr = plt.subplots(m, n, sharey=\"row\")\n",
    "#     plt.subplots_adjust(hspace=0.5, wspace=0.15)\n",
    "#     arr_ij = [(x, y) for x, y in np.ndindex(axarr.shape)]\n",
    "#     subplots = [axarr[index] for index in arr_ij]\n",
    "#     for s, splot in enumerate(subplots):\n",
    "#         splot.grid(\n",
    "#             b=True,\n",
    "#             which=\"major\",\n",
    "#             color=\"gray\",\n",
    "#             linestyle=\"-\",\n",
    "#             alpha=0.25,\n",
    "#             zorder=1,\n",
    "#             lw=0.5,\n",
    "#         )\n",
    "#         last_row = m * n - s < n + 1\n",
    "#         first_in_row = s % n == 0\n",
    "#         if last_row:\n",
    "#             splot.set_xlabel(\"X-axis label\", labelpad=8, fontsize=fz)\n",
    "#         if first_in_row:\n",
    "#             splot.set_ylabel(\"Y-axis label\", labelpad=8, fontsize=fz)\n",
    "#     return (fig, subplots)\n",
    "\n",
    "\n",
    "# with PdfPages(\"auto_subplotting_colors.pdf\") as pdf:\n",
    "#     fig, subplots = new_page(m, n)\n",
    "\n",
    "#     for sample in trange(datasize):\n",
    "#         splot = subplots[splot_index]\n",
    "#         splot_index += 1\n",
    "#         splot.scatter(\n",
    "#             range(len(data[:,1])),\n",
    "#             data[:,cols[sample]],\n",
    "#             s=5\n",
    "#         )\n",
    "#         splot.set_title(\"Sample {}\".format(cols[sample]), fontsize=fz)\n",
    "#         # tick fontsize & spacing\n",
    "#         splot.xaxis.set_tick_params(pad=4, labelsize=6)\n",
    "#         splot.yaxis.set_tick_params(pad=4, labelsize=6)\n",
    "\n",
    "#         # make new page:\n",
    "#         if splot_index == m * n:\n",
    "#             pdf.savefig()\n",
    "#             plt.close(fig)\n",
    "#             fig, subplots = new_page(m, n)\n",
    "\n",
    "#     if splot_index > 0:\n",
    "#         pdf.savefig()\n",
    "#         plt.close(fig)"
   ]
  }
 ],
 "metadata": {
  "kernelspec": {
   "display_name": "Python [conda env:sars-cov-2]",
   "language": "python",
   "name": "conda-env-sars-cov-2-py"
  },
  "language_info": {
   "codemirror_mode": {
    "name": "ipython",
    "version": 3
   },
   "file_extension": ".py",
   "mimetype": "text/x-python",
   "name": "python",
   "nbconvert_exporter": "python",
   "pygments_lexer": "ipython3",
   "version": "3.9.7"
  }
 },
 "nbformat": 4,
 "nbformat_minor": 5
}

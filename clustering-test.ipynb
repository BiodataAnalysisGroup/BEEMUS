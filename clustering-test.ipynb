{
 "cells": [
  {
   "cell_type": "code",
   "execution_count": 1,
   "id": "8327b250-3bbe-4a00-ae50-da8720fa5ce5",
   "metadata": {
    "execution": {
     "iopub.execute_input": "2021-09-29T11:31:17.668677Z",
     "iopub.status.busy": "2021-09-29T11:31:17.668491Z",
     "iopub.status.idle": "2021-09-29T11:31:18.295432Z",
     "shell.execute_reply": "2021-09-29T11:31:18.294655Z",
     "shell.execute_reply.started": "2021-09-29T11:31:17.668610Z"
    },
    "tags": []
   },
   "outputs": [],
   "source": [
    "import pandas as pd\n",
    "import numpy as np\n",
    "\n",
    "from src.distance import hamming_distance\n",
    "from src.distance import jukes_cantor_distance\n",
    "\n",
    "from sklearn.cluster import AgglomerativeClustering\n",
    "import seaborn as sns; sns.set_theme()\n",
    "import matplotlib.pylab as plt\n",
    "from sklearn.manifold import TSNE\n",
    "from sklearn.cluster import KMeans"
   ]
  },
  {
   "cell_type": "code",
   "execution_count": 47,
   "id": "b1d57ca6-87f2-4aed-a3fa-230c46c40279",
   "metadata": {
    "execution": {
     "iopub.execute_input": "2021-09-29T21:13:32.119619Z",
     "iopub.status.busy": "2021-09-29T21:13:32.118923Z",
     "iopub.status.idle": "2021-09-29T21:13:43.818977Z",
     "shell.execute_reply": "2021-09-29T21:13:43.818167Z",
     "shell.execute_reply.started": "2021-09-29T21:13:32.119596Z"
    },
    "scrolled": true,
    "tags": []
   },
   "outputs": [],
   "source": [
    "df = pd.read_csv('data/dataset.csv', index_col = 0, low_memory=False)"
   ]
  },
  {
   "cell_type": "code",
   "execution_count": 48,
   "id": "0ee4e94d-1fa1-46d2-8935-7707b3a2d256",
   "metadata": {
    "execution": {
     "iopub.execute_input": "2021-09-29T21:13:43.819984Z",
     "iopub.status.busy": "2021-09-29T21:13:43.819849Z",
     "iopub.status.idle": "2021-09-29T21:13:43.844484Z",
     "shell.execute_reply": "2021-09-29T21:13:43.842972Z",
     "shell.execute_reply.started": "2021-09-29T21:13:43.819969Z"
    },
    "tags": []
   },
   "outputs": [
    {
     "data": {
      "text/plain": [
       "V2233   2020-10-24\n",
       "V2241   2020-10-24\n",
       "V2249   2020-10-24\n",
       "V2101   2020-10-24\n",
       "V2102   2020-10-24\n",
       "           ...    \n",
       "V3737   2021-08-19\n",
       "V3738   2021-08-19\n",
       "V3739   2021-08-19\n",
       "V3721   2021-08-19\n",
       "V3741   2021-08-19\n",
       "Name: collection date, Length: 2894, dtype: datetime64[ns]"
      ]
     },
     "execution_count": 48,
     "metadata": {},
     "output_type": "execute_result"
    }
   ],
   "source": [
    "df['lineage'].value_counts()\n",
    "dates = df.loc[~df['collection date'].isin(['not provided', np.nan]), 'collection date']\n",
    "dates = pd.to_datetime(dates)\n",
    "dates.sort_values()"
   ]
  },
  {
   "cell_type": "code",
   "execution_count": 3,
   "id": "4410af74-94c4-4c98-a17d-8ff98fb5eb8e",
   "metadata": {
    "execution": {
     "iopub.execute_input": "2021-09-29T11:31:28.837839Z",
     "iopub.status.busy": "2021-09-29T11:31:28.837687Z",
     "iopub.status.idle": "2021-09-29T11:31:29.064961Z",
     "shell.execute_reply": "2021-09-29T11:31:29.064138Z",
     "shell.execute_reply.started": "2021-09-29T11:31:28.837822Z"
    },
    "tags": []
   },
   "outputs": [],
   "source": [
    "lineages = ['B.1.1.7','B.1.617.2','AY.12', 'AY.9']\n",
    "df = df.loc[df['lineage'].isin(lineages)]"
   ]
  },
  {
   "cell_type": "code",
   "execution_count": 4,
   "id": "87bdefa1-e4c6-48ce-a18c-26de6aeda9fe",
   "metadata": {
    "execution": {
     "iopub.execute_input": "2021-09-29T11:31:29.065842Z",
     "iopub.status.busy": "2021-09-29T11:31:29.065550Z",
     "iopub.status.idle": "2021-09-29T11:31:29.995963Z",
     "shell.execute_reply": "2021-09-29T11:31:29.995184Z",
     "shell.execute_reply.started": "2021-09-29T11:31:29.065825Z"
    },
    "tags": []
   },
   "outputs": [
    {
     "name": "stdout",
     "output_type": "stream",
     "text": [
      "Samples length 2633\n",
      "Positions length 29903\n"
     ]
    }
   ],
   "source": [
    "mutations = df.iloc[:, 0:29903]\n",
    "samples = mutations.index\n",
    "positions = mutations.columns\n",
    "X = mutations.to_numpy()\n",
    "# X = np.transpose(mutations.to_numpy())\n",
    "print('Samples length', len(samples))\n",
    "print('Positions length', len(positions))\n",
    "X.shape\n",
    "X[X == 1] = 0\n",
    "X[X == 2] = 1"
   ]
  },
  {
   "cell_type": "code",
   "execution_count": null,
   "id": "02c40c8d-9147-4d9a-9efa-962f7158e280",
   "metadata": {
    "tags": []
   },
   "outputs": [],
   "source": [
    "h_distances = hamming_distance.compute_HammingDistance(X)\n",
    "jukes_cantor = jukes_cantor_distance.hamming_to_jukes_cantor(h_distances, h_distances.shape[0])"
   ]
  },
  {
   "cell_type": "code",
   "execution_count": null,
   "id": "e18ee20e-2838-4c8b-bd13-c8182b9d723f",
   "metadata": {
    "tags": []
   },
   "outputs": [],
   "source": [
    "# clustering = AgglomerativeClustering(affinity = 'precomputed', linkage = 'average').fit(h_distances)\n",
    "# clustering.labels_"
   ]
  },
  {
   "cell_type": "code",
   "execution_count": null,
   "id": "9fb9bfff-31ff-49e3-b682-79945727ce08",
   "metadata": {
    "tags": []
   },
   "outputs": [],
   "source": [
    "# dist = h_distances\n",
    "# ax = plt.subplot()\n",
    "# n = 1000\n",
    "# ax = sns.heatmap(pd.DataFrame(np.interp(dist[0:n,0:n], (dist[0:n,0:n].min(), dist[0:n,0:n].max()), (0, +1)), index = positions[0:n], columns = positions[0:n]), cmap=\"YlGnBu\")\n",
    "# plt.savefig(\"../heatmap_hamming.pdf\")\n",
    "\n",
    "\n",
    "# dist = jukes_cantor\n",
    "# ax = plt.subplot()\n",
    "# n = 1000\n",
    "# ax = sns.heatmap(pd.DataFrame(dist[0:n,0:n], index = positions[0:n], columns = positions[0:n]), cmap=\"YlGnBu\")\n",
    "# plt.savefig(\"../heatmap_jukes_cantor.pdf\")"
   ]
  },
  {
   "cell_type": "code",
   "execution_count": null,
   "id": "4db8e2da-bb2b-49ed-a3bc-1640ddeca660",
   "metadata": {
    "tags": []
   },
   "outputs": [],
   "source": [
    "# from sklearn.datasets import load_digits\n",
    "# from sklearn.manifold import MDS\n",
    "\n",
    "# embedding = MDS(n_components = 2, dissimilarity = 'precomputed', n_jobs = -1, verbose = 1, max_iter = 300)\n",
    "# X_transformed = embedding.fit_transform(jukes_cantor)\n",
    "# X_transformed.shape"
   ]
  },
  {
   "cell_type": "code",
   "execution_count": null,
   "id": "bbe0e646-51f8-46f1-9b31-66ccc9fb6804",
   "metadata": {
    "tags": []
   },
   "outputs": [],
   "source": [
    "import numpy as np\n",
    "from sklearn.decomposition import PCA\n",
    "\n",
    "pca = PCA(n_components=2)\n",
    "X_transformed = pca.fit_transform(X)\n",
    "X_transformed.shape"
   ]
  },
  {
   "cell_type": "code",
   "execution_count": 5,
   "id": "6958784d-06a6-44ea-8e42-e1baae3fb481",
   "metadata": {
    "execution": {
     "iopub.execute_input": "2021-09-29T11:31:34.141971Z",
     "iopub.status.busy": "2021-09-29T11:31:34.141736Z",
     "iopub.status.idle": "2021-09-29T11:31:50.307876Z",
     "shell.execute_reply": "2021-09-29T11:31:50.307359Z",
     "shell.execute_reply.started": "2021-09-29T11:31:34.141947Z"
    },
    "tags": []
   },
   "outputs": [
    {
     "data": {
      "text/plain": [
       "(2633, 2)"
      ]
     },
     "execution_count": 5,
     "metadata": {},
     "output_type": "execute_result"
    }
   ],
   "source": [
    "import numpy as np\n",
    "from sklearn.manifold import TSNE\n",
    "\n",
    "X_transformed = TSNE(n_components=2,\\\n",
    "                  init='random', n_jobs=-1).fit_transform(X)\n",
    "X_transformed.shape"
   ]
  },
  {
   "cell_type": "code",
   "execution_count": 6,
   "id": "d3c8450f-c7f7-42e4-a494-cf6c6e72fa24",
   "metadata": {
    "execution": {
     "iopub.execute_input": "2021-09-29T11:31:50.311637Z",
     "iopub.status.busy": "2021-09-29T11:31:50.310522Z",
     "iopub.status.idle": "2021-09-29T11:31:50.971345Z",
     "shell.execute_reply": "2021-09-29T11:31:50.970558Z",
     "shell.execute_reply.started": "2021-09-29T11:31:50.311612Z"
    },
    "tags": []
   },
   "outputs": [
    {
     "data": {
      "image/png": "[encoded data removed]",
      "text/plain": [
       "<Figure size 432x288 with 1 Axes>"
      ]
     },
     "metadata": {},
     "output_type": "display_data"
    }
   ],
   "source": [
    "cols = df.loc[:,'lineage'].copy()\n",
    "# cols.unique()\n",
    "# cols[pd.isna(cols)] = 'unlabeled'\n",
    "\n",
    "g = sns.scatterplot(x = X_transformed[:,0], y = X_transformed[:,1], hue = cols)\n",
    "g.set_title('TSNE on the bin matrix 2s')\n",
    "plt.legend(bbox_to_anchor=(1,1), loc=\"upper left\")\n",
    "plt.savefig('TSNE-bin2s.pdf', format='pdf', bbox_inches='tight')"
   ]
  },
  {
   "cell_type": "code",
   "execution_count": null,
   "id": "d879c501-61ec-449e-a21e-cc15c6572855",
   "metadata": {
    "tags": []
   },
   "outputs": [],
   "source": [
    "# from mpl_toolkits import mplot3d\n",
    "# import numpy as np\n",
    "# import matplotlib.pyplot as plt\n",
    "# fig = plt.figure()\n",
    "# ax = plt.axes(projection='3d')\n",
    "# ax = plt.axes(projection='3d')\n",
    "\n",
    "# ax.scatter3D(X_transformed[:,0],X_transformed[:,1], X_transformed[:,2])"
   ]
  },
  {
   "cell_type": "code",
   "execution_count": null,
   "id": "12ec2d10-990e-4691-83fd-0d204e7bdc68",
   "metadata": {
    "tags": []
   },
   "outputs": [],
   "source": [
    "# Embeddings\n",
    "\n",
    "X = np.load('biovec_test/embeddings10000.npy')\n",
    "index = pd.read_csv('biovec_test/test_file_name_index.tsv', delimiter=\"\\t\", usecols=['accession'])\n",
    "index = index.accession.tolist()\n",
    "index = [k.split('_')[1] for k in index]\n",
    "\n",
    "lineages = ['B.1.1.7','B.1.617.2','AY.12', 'AY.9']\n",
    "df = df.loc[df['lineage'].isin(lineages)]\n",
    "selected = df.index\n",
    "\n",
    "msk = [True if k in selected else False for k in index]\n",
    "msk_lineage = [index[i] for i, x in enumerate(msk) if x]\n",
    "\n",
    "cols = df.loc[msk_lineage, ['lineage']].copy()\n",
    "cols.loc[pd.isna(cols['lineage'])] = 'unlabeled'\n",
    "\n",
    "# KNN\n",
    "\n",
    "kmeans = KMeans(n_clusters=len(cols['lineage'].unique()), random_state=0).fit(X[msk])\n",
    "kmeans.labels_\n",
    "# kmeans.predict([[0, 0], [12, 3]])\n",
    "# kmeans.cluster_centers_\n",
    "\n",
    "# TSNE\n",
    "X_transformed = TSNE(n_components=2,\\\n",
    "                  init='random', n_jobs=-1).fit_transform(X[msk])\n",
    "X_transformed.shape"
   ]
  },
  {
   "cell_type": "code",
   "execution_count": null,
   "id": "ee0b3e38-8fb7-43df-b4fd-344d472a1f18",
   "metadata": {
    "tags": []
   },
   "outputs": [],
   "source": [
    "g = sns.scatterplot(x = X_transformed[:,0], y = X_transformed[:,1], hue = cols['lineage'], style=kmeans.labels_)\n",
    "g.set_title('TSNE on the embeddings matrix 10000')\n",
    "plt.legend(bbox_to_anchor=(1,1), loc=\"upper left\")\n",
    "plt.savefig('TSNE-embeddings10000.pdf', format='pdf', bbox_inches='tight')"
   ]
  }
 ],
 "metadata": {
  "kernelspec": {
   "display_name": "Python [conda env:sars-cov-2]",
   "language": "python",
   "name": "conda-env-sars-cov-2-py"
  },
  "language_info": {
   "codemirror_mode": {
    "name": "ipython",
    "version": 3
   },
   "file_extension": ".py",
   "mimetype": "text/x-python",
   "name": "python",
   "nbconvert_exporter": "python",
   "pygments_lexer": "ipython3",
   "version": "3.9.7"
  }
 },
 "nbformat": 4,
 "nbformat_minor": 5
}

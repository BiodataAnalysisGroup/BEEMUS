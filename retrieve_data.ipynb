{
 "cells": [
  {
   "cell_type": "code",
   "execution_count": 1,
   "id": "6bf4a5a4-bb43-4ae1-b0bc-a4f0300a6670",
   "metadata": {
    "execution": {
     "iopub.execute_input": "2021-09-16T10:10:20.707456Z",
     "iopub.status.busy": "2021-09-16T10:10:20.706844Z",
     "iopub.status.idle": "2021-09-16T10:10:20.913698Z",
     "shell.execute_reply": "2021-09-16T10:10:20.912934Z",
     "shell.execute_reply.started": "2021-09-16T10:10:20.707394Z"
    },
    "tags": []
   },
   "outputs": [],
   "source": [
    "import pandas as pd\n",
    "import os"
   ]
  },
  {
   "cell_type": "code",
   "execution_count": 2,
   "id": "03f35a9a-6a92-4e7b-b10b-5e29f50e11f4",
   "metadata": {
    "execution": {
     "iopub.execute_input": "2021-09-16T10:10:20.915147Z",
     "iopub.status.busy": "2021-09-16T10:10:20.914885Z",
     "iopub.status.idle": "2021-09-16T10:10:21.115304Z",
     "shell.execute_reply": "2021-09-16T10:10:21.114726Z",
     "shell.execute_reply.started": "2021-09-16T10:10:20.915113Z"
    },
    "tags": []
   },
   "outputs": [],
   "source": [
    "data = pd.read_csv('dataset.csv', usecols = ['lineage'])"
   ]
  },
  {
   "cell_type": "code",
   "execution_count": 26,
   "id": "24cb37f9-6117-4ab4-bdcc-d20441b054f8",
   "metadata": {
    "execution": {
     "iopub.execute_input": "2021-09-16T12:56:52.441002Z",
     "iopub.status.busy": "2021-09-16T12:56:52.440734Z",
     "iopub.status.idle": "2021-09-16T12:56:52.445435Z",
     "shell.execute_reply": "2021-09-16T12:56:52.444769Z",
     "shell.execute_reply.started": "2021-09-16T12:56:52.440986Z"
    },
    "tags": []
   },
   "outputs": [],
   "source": [
    "import re\n",
    "items = data['lineage'].unique().tolist()\n",
    "items = [str(i).strip() for i in items]\n",
    "items = [i for i in items if i != 'nan' and i != '']\n",
    "\n",
    "for idx, item in enumerate(items):\n",
    "    items[idx] = re.sub(r\" ?\\([^)]+\\)\", \"\", item).strip()\n",
    "items = list(set(items))"
   ]
  },
  {
   "cell_type": "code",
   "execution_count": 4,
   "id": "2cba88df-bae8-46a9-b1f2-9e5612959bee",
   "metadata": {
    "execution": {
     "iopub.execute_input": "2021-09-16T10:10:21.124302Z",
     "iopub.status.busy": "2021-09-16T10:10:21.124160Z",
     "iopub.status.idle": "2021-09-16T10:10:57.724611Z",
     "shell.execute_reply": "2021-09-16T10:10:57.723674Z",
     "shell.execute_reply.started": "2021-09-16T10:10:21.124285Z"
    },
    "tags": []
   },
   "outputs": [
    {
     "name": "stdout",
     "output_type": "stream",
     "text": [
      "Data has been saved to the lineages/B.1.1.7_f0.75.csv file in the current directory.\n",
      "Data has been saved to the lineages/B.1.1_f0.75.csv file in the current directory.\n",
      "Data has been saved to the lineages/B.1.1.318_f0.75.csv file in the current directory.\n",
      "Data has been saved to the lineages/B.1.617.2_f0.75.csv file in the current directory.\n",
      "Data has been saved to the lineages/AT.1_f0.75.csv file in the current directory.\n",
      "Data has been saved to the lineages/B.1.1.305_f0.75.csv file in the current directory.\n",
      "Data has been saved to the lineages/B.1.351.3_f0.75.csv file in the current directory.\n",
      "Data has been saved to the lineages/B.1.36.36_f0.75.csv file in the current directory.\n",
      "Data has been saved to the lineages/B.1.620_f0.75.csv file in the current directory.\n",
      "Data has been saved to the lineages/B.1.629_f0.75.csv file in the current directory.\n",
      "Data has been saved to the lineages/B.1_f0.75.csv file in the current directory.\n",
      "Data has been saved to the lineages/B.1.177_f0.75.csv file in the current directory.\n",
      "Data has been saved to the lineages/B.1.351_f0.75.csv file in the current directory.\n",
      "Data has been saved to the lineages/B.1.575_f0.75.csv file in the current directory.\n",
      "Data has been saved to the lineages/C.36.3_f0.75.csv file in the current directory.\n",
      "Data has been saved to the lineages/AY.12_f0.75.csv file in the current directory.\n",
      "Data has been saved to the lineages/AY.9_f0.75.csv file in the current directory.\n",
      "Data has been saved to the lineages/AY.4_f0.75.csv file in the current directory.\n",
      "Data has been saved to the lineages/AY.7_f0.75.csv file in the current directory.\n",
      "Data has been saved to the lineages/AY.3_f0.75.csv file in the current directory.\n",
      "Data has been saved to the lineages/B.1.604_f0.75.csv file in the current directory.\n",
      "Data has been saved to the lineages/AY.12_f0.75.csv file in the current directory.\n",
      "Data has been saved to the lineages/B.1.1.7_f0.75.csv file in the current directory.\n",
      "Data has been saved to the lineages/B.1_f0.75.csv file in the current directory.\n",
      "Data has been saved to the lineages/AY.4_f0.75.csv file in the current directory.\n",
      "Data has been saved to the lineages/B.1.617.2_f0.75.csv file in the current directory.\n",
      "Data has been saved to the lineages/B.1.617.2_f0.75.csv file in the current directory.\n",
      "Data has been saved to the lineages/AY.7.1_f0.75.csv file in the current directory.\n",
      "Data has been saved to the lineages/AY.7.1_f0.75.csv file in the current directory.\n",
      "Data has been saved to the lineages/AY.19_f0.75.csv file in the current directory.\n",
      "Data has been saved to the lineages/AY.7.2_f0.75.csv file in the current directory.\n"
     ]
    }
   ],
   "source": [
    "for item in items:\n",
    "    os.system('python scraper.py --lineage={}'.format(item))"
   ]
  }
 ],
 "metadata": {
  "kernelspec": {
   "display_name": "Python [conda env:sars-cov-2]",
   "language": "python",
   "name": "conda-env-sars-cov-2-py"
  },
  "language_info": {
   "codemirror_mode": {
    "name": "ipython",
    "version": 3
   },
   "file_extension": ".py",
   "mimetype": "text/x-python",
   "name": "python",
   "nbconvert_exporter": "python",
   "pygments_lexer": "ipython3",
   "version": "3.9.7"
  }
 },
 "nbformat": 4,
 "nbformat_minor": 5
}

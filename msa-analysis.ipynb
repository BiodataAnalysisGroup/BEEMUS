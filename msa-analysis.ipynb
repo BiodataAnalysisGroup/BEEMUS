{
 "cells": [
  {
   "cell_type": "code",
   "execution_count": 210,
   "id": "0fbbd1f3-534b-4301-a284-dd44f746989b",
   "metadata": {
    "execution": {
     "iopub.execute_input": "2021-12-10T21:03:03.851502Z",
     "iopub.status.busy": "2021-12-10T21:03:03.850698Z",
     "iopub.status.idle": "2021-12-10T21:03:03.855468Z",
     "shell.execute_reply": "2021-12-10T21:03:03.854730Z",
     "shell.execute_reply.started": "2021-12-10T21:03:03.851478Z"
    },
    "tags": []
   },
   "outputs": [],
   "source": [
    "from Bio import SeqIO\n",
    "import numpy as np\n",
    "from scipy.stats import entropy\n",
    "import matplotlib.pylab as plt\n",
    "from sklearn import metrics\n",
    "from tqdm.notebook import trange\n",
    "from joblib import Parallel, delayed"
   ]
  },
  {
   "cell_type": "code",
   "execution_count": 43,
   "id": "e4719376-660b-41f8-bfd7-4ae79bc37cdb",
   "metadata": {
    "execution": {
     "iopub.execute_input": "2021-12-09T17:06:26.290314Z",
     "iopub.status.busy": "2021-12-09T17:06:26.289915Z",
     "iopub.status.idle": "2021-12-09T17:06:29.409679Z",
     "shell.execute_reply": "2021-12-09T17:06:29.409042Z",
     "shell.execute_reply.started": "2021-12-09T17:06:26.290279Z"
    },
    "tags": []
   },
   "outputs": [],
   "source": [
    "names = []\n",
    "seqs = []\n",
    "lengths = []\n",
    "uniques = []\n",
    "for seq_record in SeqIO.parse(\"data/combined-MSA.fasta\", \"fasta\"):\n",
    "    names.append(seq_record.id)\n",
    "    seqs.append(str(seq_record.seq))\n",
    "    uniques.append(list(set(str(seq_record.seq))))\n",
    "    lengths.append(len(seq_record))"
   ]
  },
  {
   "cell_type": "code",
   "execution_count": 33,
   "id": "39070b57-8e10-4ef2-b542-f8b16cd0785a",
   "metadata": {
    "execution": {
     "iopub.execute_input": "2021-12-09T16:40:05.459599Z",
     "iopub.status.busy": "2021-12-09T16:40:05.459080Z",
     "iopub.status.idle": "2021-12-09T16:40:05.469574Z",
     "shell.execute_reply": "2021-12-09T16:40:05.468533Z",
     "shell.execute_reply.started": "2021-12-09T16:40:05.459578Z"
    },
    "tags": []
   },
   "outputs": [
    {
     "name": "stdout",
     "output_type": "stream",
     "text": [
      "5 5\n"
     ]
    }
   ],
   "source": [
    "ls = []\n",
    "for i in uniques:\n",
    "    ls.append(len(i))\n",
    "    \n",
    "print(min(ls), max(ls))"
   ]
  },
  {
   "cell_type": "code",
   "execution_count": 40,
   "id": "05d8d242-a860-49e5-b9ab-cbf3199a550a",
   "metadata": {
    "execution": {
     "iopub.execute_input": "2021-12-09T17:03:38.142876Z",
     "iopub.status.busy": "2021-12-09T17:03:38.142523Z",
     "iopub.status.idle": "2021-12-09T17:03:38.149036Z",
     "shell.execute_reply": "2021-12-09T17:03:38.148217Z",
     "shell.execute_reply.started": "2021-12-09T17:03:38.142858Z"
    },
    "tags": []
   },
   "outputs": [
    {
     "data": {
      "text/plain": [
       "30865"
      ]
     },
     "execution_count": 40,
     "metadata": {},
     "output_type": "execute_result"
    }
   ],
   "source": [
    "max(lengths)"
   ]
  },
  {
   "cell_type": "code",
   "execution_count": 67,
   "id": "3623bbf9-462f-4cee-95fd-14e4e0e8ba56",
   "metadata": {
    "execution": {
     "iopub.execute_input": "2021-12-10T13:31:35.792538Z",
     "iopub.status.busy": "2021-12-10T13:31:35.791977Z",
     "iopub.status.idle": "2021-12-10T13:31:46.000152Z",
     "shell.execute_reply": "2021-12-10T13:31:45.999387Z",
     "shell.execute_reply.started": "2021-12-10T13:31:35.792503Z"
    },
    "tags": []
   },
   "outputs": [],
   "source": [
    "array = np.array([list(word) for word in seqs]).T"
   ]
  },
  {
   "cell_type": "code",
   "execution_count": 91,
   "id": "5c3be8f2-8760-4ff3-bde0-82c21c9f855d",
   "metadata": {
    "execution": {
     "iopub.execute_input": "2021-12-10T13:56:39.042906Z",
     "iopub.status.busy": "2021-12-10T13:56:39.042286Z",
     "iopub.status.idle": "2021-12-10T13:56:42.384987Z",
     "shell.execute_reply": "2021-12-10T13:56:42.384333Z",
     "shell.execute_reply.started": "2021-12-10T13:56:39.042886Z"
    },
    "tags": []
   },
   "outputs": [],
   "source": [
    "probabilities = []\n",
    "for i in range(array.shape[0]):\n",
    "    uniques, counts = np.unique(array[i], return_counts=True)\n",
    "    d = {u : c for u, c in zip(uniques, counts)}\n",
    "    d.pop(\"-\", None)\n",
    "    s = sum(d.values())\n",
    "    p = []\n",
    "    for key, value in d.items():\n",
    "        p.append(value / s)\n",
    "    probabilities.append(p)"
   ]
  },
  {
   "cell_type": "code",
   "execution_count": 203,
   "id": "7087c462-f805-4785-8b70-8fcb2ef83393",
   "metadata": {
    "execution": {
     "iopub.execute_input": "2021-12-10T20:49:58.419257Z",
     "iopub.status.busy": "2021-12-10T20:49:58.418829Z",
     "iopub.status.idle": "2021-12-10T20:49:58.785412Z",
     "shell.execute_reply": "2021-12-10T20:49:58.784751Z",
     "shell.execute_reply.started": "2021-12-10T20:49:58.419239Z"
    },
    "tags": []
   },
   "outputs": [
    {
     "data": {
      "text/plain": [
       "29736"
      ]
     },
     "execution_count": 203,
     "metadata": {},
     "output_type": "execute_result"
    }
   ],
   "source": [
    "entropies = np.array([entropy(prob, base=2) for prob in probabilities])\n",
    "# msk = np.argwhere(entropies > 0)\n",
    "# msk = np.reshape(msk, (msk.shape[0],))\n",
    "\n",
    "n = 500\n",
    "\n",
    "idx = np.argpartition(entropies, -n)[-n:]\n",
    "msk = idx[np.argsort((-entropies)[idx])]\n",
    "\n",
    "entropies = np.reshape(entropies[msk], (entropies[msk].shape[0],))\n",
    "msk[10]"
   ]
  },
  {
   "cell_type": "code",
   "execution_count": 186,
   "id": "8fc40675-44c5-41ba-b266-d863a0128f3b",
   "metadata": {
    "execution": {
     "iopub.execute_input": "2021-12-10T20:22:21.929481Z",
     "iopub.status.busy": "2021-12-10T20:22:21.928796Z",
     "iopub.status.idle": "2021-12-10T20:22:23.079508Z",
     "shell.execute_reply": "2021-12-10T20:22:23.078780Z",
     "shell.execute_reply.started": "2021-12-10T20:22:21.929459Z"
    },
    "tags": []
   },
   "outputs": [
    {
     "data": {
      "image/png": "[encoded data removed]",
      "text/plain": [
       "<Figure size 432x288 with 1 Axes>"
      ]
     },
     "metadata": {
      "needs_background": "light"
     },
     "output_type": "display_data"
    }
   ],
   "source": [
    "plt.bar(msk, entropies)\n",
    "plt.savefig('barplot.pdf')\n",
    "plt.show()"
   ]
  },
  {
   "cell_type": "code",
   "execution_count": 230,
   "id": "be48fdd8-a0fc-4e29-bdb4-615b16cc775a",
   "metadata": {
    "execution": {
     "iopub.execute_input": "2021-12-10T21:20:40.476690Z",
     "iopub.status.busy": "2021-12-10T21:20:40.475978Z",
     "iopub.status.idle": "2021-12-10T21:20:40.484219Z",
     "shell.execute_reply": "2021-12-10T21:20:40.483218Z",
     "shell.execute_reply.started": "2021-12-10T21:20:40.476665Z"
    },
    "tags": []
   },
   "outputs": [],
   "source": [
    "def mutualinfo_vect(array, length, i):\n",
    "    res = np.zeros(shape=(length))\n",
    "    for j in range(i, length):\n",
    "        res[j] = metrics.mutual_info_score(array[i], array[j])\n",
    "    return res"
   ]
  },
  {
   "cell_type": "code",
   "execution_count": null,
   "id": "86263036-c9b4-46f9-b4cf-6fb8231fc727",
   "metadata": {
    "execution": {
     "iopub.execute_input": "2021-12-10T21:31:40.218259Z",
     "iopub.status.busy": "2021-12-10T21:31:40.217650Z"
    },
    "tags": []
   },
   "outputs": [
    {
     "data": {
      "application/vnd.jupyter.widget-view+json": {
       "model_id": "afa57a31d58040969e4bdee002dc69f0",
       "version_major": 2,
       "version_minor": 0
      },
      "text/plain": [
       "  0%|          | 0/30865 [00:00<?, ?it/s]"
      ]
     },
     "metadata": {},
     "output_type": "display_data"
    }
   ],
   "source": [
    "length = array.shape[0]\n",
    "\n",
    "mutual_info = Parallel(n_jobs=16)(delayed(mutualinfo_vect)(array, length, i) for i in trange(length))\n",
    "\n",
    "mutual_info = np.stack(mutual_info)\n",
    "\n",
    "np.save('data/mutual_info.npy', mutual_info)"
   ]
  }
 ],
 "metadata": {
  "kernelspec": {
   "display_name": "Python [conda env:sars-cov-2]",
   "language": "python",
   "name": "conda-env-sars-cov-2-py"
  },
  "language_info": {
   "codemirror_mode": {
    "name": "ipython",
    "version": 3
   },
   "file_extension": ".py",
   "mimetype": "text/x-python",
   "name": "python",
   "nbconvert_exporter": "python",
   "pygments_lexer": "ipython3",
   "version": "3.9.7"
  }
 },
 "nbformat": 4,
 "nbformat_minor": 5
}

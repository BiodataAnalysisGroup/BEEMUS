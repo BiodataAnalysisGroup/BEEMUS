{
 "cells": [
  {
   "cell_type": "code",
   "execution_count": 1,
   "id": "f6030aaa-d0f2-4cb9-9802-1d145b5e904c",
   "metadata": {
    "execution": {
     "iopub.execute_input": "2021-12-28T11:06:19.329432Z",
     "iopub.status.busy": "2021-12-28T11:06:19.328941Z",
     "iopub.status.idle": "2021-12-28T11:06:19.353145Z",
     "shell.execute_reply": "2021-12-28T11:06:19.352542Z",
     "shell.execute_reply.started": "2021-12-28T11:06:19.329378Z"
    },
    "tags": []
   },
   "outputs": [],
   "source": [
    "import plotly.graph_objects as go"
   ]
  },
  {
   "cell_type": "code",
   "execution_count": 301,
   "id": "0096b302-e51b-4932-bcd3-3a849a107501",
   "metadata": {
    "execution": {
     "iopub.execute_input": "2021-12-29T14:32:18.085876Z",
     "iopub.status.busy": "2021-12-29T14:32:18.085422Z",
     "iopub.status.idle": "2021-12-29T14:32:22.369418Z",
     "shell.execute_reply": "2021-12-29T14:32:22.368686Z",
     "shell.execute_reply.started": "2021-12-29T14:32:18.085857Z"
    },
    "tags": []
   },
   "outputs": [],
   "source": [
    "fig = go.Figure(data=[go.Sankey(\n",
    "    node = dict(\n",
    "      pad = 0,\n",
    "      thickness = 10,\n",
    "      line = dict(color = \"black\", width = 0.5),\n",
    "      label = ['1' + k for k in d['descritpion']] + ['2' + k for k in d['descritpion']] + ['3' + k for k in d['descritpion']] + ['4' + k for k in d['descritpion']],\n",
    "      color = d['color'] + d['color'] + d['color'] + d['color']\n",
    "    ),\n",
    "    link = dict(\n",
    "        source = from_complete_links + to_complete_links + to_to_complete_links, # indices correspond to labels, eg A1, A2, A1, B1, ...\n",
    "        target = to_complete_links + to_to_complete_links + to_to_to_complete_links,\n",
    "        value = [1] * len(from_complete_links) * 3,\n",
    "        color = ['white'] * len(from_complete_links) * 3\n",
    "  ))])\n",
    "\n",
    "fig.update_layout(title_text=\"Basic Sankey Diagram\", font_size=10)\n",
    "\n",
    "fig.write_html(\"flow.html\")"
   ]
  },
  {
   "cell_type": "code",
   "execution_count": null,
   "id": "990a41ae-8252-453c-b4a5-f63bb14a9977",
   "metadata": {
    "tags": []
   },
   "outputs": [],
   "source": [
    "%%html\n",
    "<iframe src=\"flow.html\" width=\"800\" height=\"600\" title=\"ridgeline chart with plotly\" style=\"border:none\"></iframe>"
   ]
  },
  {
   "cell_type": "code",
   "execution_count": 168,
   "id": "4a5b090c-06df-452f-a668-4703672162a6",
   "metadata": {
    "execution": {
     "iopub.execute_input": "2021-12-28T18:29:02.701263Z",
     "iopub.status.busy": "2021-12-28T18:29:02.700677Z",
     "iopub.status.idle": "2021-12-28T18:29:02.705485Z",
     "shell.execute_reply": "2021-12-28T18:29:02.704731Z",
     "shell.execute_reply.started": "2021-12-28T18:29:02.701240Z"
    },
    "tags": []
   },
   "outputs": [],
   "source": [
    "def find_consecutive_from_idx(lst, idx):\n",
    "    if idx + 1 == len(lst):\n",
    "        return idx\n",
    "    elif idx + 1 > len(lst):\n",
    "        return None\n",
    "    \n",
    "    for i in range(idx, len(lst)):\n",
    "        if not i + 1 in range(len(lst)):\n",
    "            return i\n",
    "        if lst[i] != lst[i + 1] - 1:\n",
    "            return i"
   ]
  },
  {
   "cell_type": "code",
   "execution_count": 283,
   "id": "a89f03d6-db54-459d-a93a-6c120d48390d",
   "metadata": {
    "execution": {
     "iopub.execute_input": "2021-12-29T12:04:50.599262Z",
     "iopub.status.busy": "2021-12-29T12:04:50.598887Z",
     "iopub.status.idle": "2021-12-29T12:04:50.611740Z",
     "shell.execute_reply": "2021-12-29T12:04:50.610095Z",
     "shell.execute_reply.started": "2021-12-29T12:04:50.599240Z"
    },
    "tags": []
   },
   "outputs": [],
   "source": [
    "def create_split(list_of_mutations, n):\n",
    "    d = {\n",
    "        'label' : [],\n",
    "        'from' : [],\n",
    "        'to' : [],\n",
    "        'descritpion' : [],\n",
    "        'color' : []\n",
    "    }\n",
    "    k = 0\n",
    "    L = 0\n",
    "    index = 0\n",
    "    while index in range(len(list_of_mutations)):\n",
    "        if index == 0 and list_of_mutations[0] != 0:\n",
    "            d['label'].append(k)\n",
    "            d['from'].append(L)\n",
    "            d['to'].append(list_of_mutations[0]-1)\n",
    "            d['descritpion'].append(\"From {}, to {}\".format(L, list_of_mutations[0]-1))\n",
    "            d['color'].append('white')\n",
    "            k = k + 1\n",
    "        L = list_of_mutations[index]\n",
    "        \n",
    "        H_idx = find_consecutive_from_idx(list_of_mutations, index)\n",
    "        if H_idx == None:\n",
    "            break    \n",
    "        H = list_of_mutations[H_idx]\n",
    "        index = H_idx + 1\n",
    "        d['label'].append(k)\n",
    "        d['from'].append(L)\n",
    "        d['to'].append(H)\n",
    "        d['descritpion'].append(\"From {}, to {}\".format(L, H))\n",
    "        d['color'].append('yellow')\n",
    "        k = k + 1\n",
    "        if index < len(list_of_mutations):\n",
    "            d['label'].append(k)\n",
    "            d['from'].append(H+1)\n",
    "            d['to'].append(list_of_mutations[index]-1)\n",
    "            d['descritpion'].append(\"From {}, to {}\".format(H+1, list_of_mutations[index]-1))\n",
    "            d['color'].append('white')\n",
    "            k = k + 1\n",
    "        elif (index == len(list_of_mutations)) and (list_of_mutations[index - 1] != n):\n",
    "            d['label'].append(k)\n",
    "            d['from'].append(H+1)\n",
    "            d['to'].append(n)\n",
    "            d['descritpion'].append(\"From {}, to {}\".format(H+1, n))\n",
    "            d['color'].append('white')\n",
    "            k = k + 1\n",
    "    return d"
   ]
  },
  {
   "cell_type": "code",
   "execution_count": 288,
   "id": "54bdd10c-7d70-43e7-886e-d1199f4ec767",
   "metadata": {
    "execution": {
     "iopub.execute_input": "2021-12-29T12:06:18.556854Z",
     "iopub.status.busy": "2021-12-29T12:06:18.556425Z",
     "iopub.status.idle": "2021-12-29T12:06:18.564786Z",
     "shell.execute_reply": "2021-12-29T12:06:18.563779Z",
     "shell.execute_reply.started": "2021-12-29T12:06:18.556814Z"
    },
    "tags": []
   },
   "outputs": [],
   "source": [
    "lst = [3,4,6,7,8,10,18,95,96,97,98,99,100] + list(range(15000, 15100))\n",
    "d = create_split(lst, 30000)"
   ]
  },
  {
   "cell_type": "code",
   "execution_count": 300,
   "id": "01440442-beca-4c0e-88e7-3a99fe81976c",
   "metadata": {
    "execution": {
     "iopub.execute_input": "2021-12-29T14:32:13.964927Z",
     "iopub.status.busy": "2021-12-29T14:32:13.964245Z",
     "iopub.status.idle": "2021-12-29T14:32:13.976719Z",
     "shell.execute_reply": "2021-12-29T14:32:13.975847Z",
     "shell.execute_reply.started": "2021-12-29T14:32:13.964907Z"
    },
    "tags": []
   },
   "outputs": [],
   "source": [
    "from_complete_links = []\n",
    "for idx, (_from, _to) in enumerate(zip(d['from'], d['to'])):\n",
    "    _len = _to - _from + 1\n",
    "    from_complete_links.extend([idx] * _len)\n",
    "to_complete_links = [k + len(d['label']) for k in from_complete_links]\n",
    "to_to_complete_links = [k + len(d['label']) for k in to_complete_links]\n",
    "to_to_to_complete_links = [k + len(d['label']) for k in to_to_complete_links]"
   ]
  }
 ],
 "metadata": {
  "kernelspec": {
   "display_name": "Python [conda env:sars-cov-2]",
   "language": "python",
   "name": "conda-env-sars-cov-2-py"
  },
  "language_info": {
   "codemirror_mode": {
    "name": "ipython",
    "version": 3
   },
   "file_extension": ".py",
   "mimetype": "text/x-python",
   "name": "python",
   "nbconvert_exporter": "python",
   "pygments_lexer": "ipython3",
   "version": "3.9.7"
  }
 },
 "nbformat": 4,
 "nbformat_minor": 5
}

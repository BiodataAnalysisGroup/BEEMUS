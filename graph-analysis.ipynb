{
 "cells": [
  {
   "cell_type": "code",
   "execution_count": 304,
   "id": "2e566d4c",
   "metadata": {
    "execution": {
     "iopub.execute_input": "2021-11-25T11:37:35.185075Z",
     "iopub.status.busy": "2021-11-25T11:37:35.184520Z",
     "iopub.status.idle": "2021-11-25T11:37:35.215637Z",
     "shell.execute_reply": "2021-11-25T11:37:35.211217Z",
     "shell.execute_reply.started": "2021-11-25T11:37:35.185056Z"
    },
    "tags": []
   },
   "outputs": [
    {
     "name": "stdout",
     "output_type": "stream",
     "text": [
      "The autoreload extension is already loaded. To reload it, use:\n",
      "  %reload_ext autoreload\n"
     ]
    }
   ],
   "source": [
    "%load_ext autoreload\n",
    "%autoreload 2\n",
    "\n",
    "import pandas as pd\n",
    "import numpy as np\n",
    "import networkx as nx\n",
    "from pyvis.network import Network\n",
    "\n",
    "from sklearn.manifold import TSNE\n",
    "from sklearn.cluster import KMeans\n",
    "from sklearn.cluster import DBSCAN\n",
    "\n",
    "from src.helpers import *\n",
    "\n",
    "import seaborn as sns; sns.set_theme()\n",
    "import matplotlib.pylab as plt\n",
    "import math\n",
    "import pickle\n",
    "import itertools\n",
    "import random\n",
    "import json\n",
    "import statistics\n",
    "\n",
    "from src.vcfs_parser import parser\n",
    "from src.counts import count_snps"
   ]
  },
  {
   "cell_type": "code",
   "execution_count": 3,
   "id": "ce400c97",
   "metadata": {
    "execution": {
     "iopub.execute_input": "2021-11-18T08:51:41.586613Z",
     "iopub.status.busy": "2021-11-18T08:51:41.586132Z",
     "iopub.status.idle": "2021-11-18T08:51:51.050413Z",
     "shell.execute_reply": "2021-11-18T08:51:51.049799Z",
     "shell.execute_reply.started": "2021-11-18T08:51:41.586592Z"
    },
    "tags": []
   },
   "outputs": [],
   "source": [
    "based_on = [1, 2]\n",
    "\n",
    "df = pd.read_csv('data/dataset.csv', index_col = 0, low_memory=False)\n",
    "mut_cols = [col for col in df.columns.to_list() if col.isnumeric()]\n",
    "\n",
    "\n",
    "lineages_of_interest = ['B.1.1.7','B.1.617.2','AY.12', 'AY.9', 'AY.4', 'B.1.1.318', 'AY.7']  # Lineages of interest\n",
    "df = df.loc[df['lineage'].isin(lineages_of_interest)].copy()\n",
    "\n",
    "lineages = df.loc[:,'lineage'].copy()\n",
    "# cols.unique()\n",
    "# cols[pd.isna(cols)] = 'unlabeled'"
   ]
  },
  {
   "cell_type": "code",
   "execution_count": 5,
   "id": "a1d0cf32",
   "metadata": {
    "execution": {
     "iopub.execute_input": "2021-11-18T08:54:55.767950Z",
     "iopub.status.busy": "2021-11-18T08:54:55.767562Z",
     "iopub.status.idle": "2021-11-18T08:55:38.793338Z",
     "shell.execute_reply": "2021-11-18T08:55:38.792733Z",
     "shell.execute_reply.started": "2021-11-18T08:54:55.767930Z"
    },
    "tags": []
   },
   "outputs": [
    {
     "name": "stdout",
     "output_type": "stream",
     "text": [
      "Based on 1\n",
      "Samples length = 2787\n",
      "Features length = 29903\n",
      "Estimated number of clusters 33\n",
      "Estimated number of noise 0\n",
      "Based on 2\n",
      "Samples length = 2787\n",
      "Features length = 29903\n",
      "Estimated number of clusters 9\n",
      "Estimated number of noise 0\n"
     ]
    },
    {
     "data": {
      "text/plain": [
       "<Figure size 432x288 with 0 Axes>"
      ]
     },
     "metadata": {},
     "output_type": "display_data"
    }
   ],
   "source": [
    "for bo in based_on:\n",
    "    print('Based on {}'.format(bo))\n",
    "    X = prepare_for_clustering(df, mut_cols, based_on = bo)\n",
    "\n",
    "    X_transformed = TSNE(n_components=2,\\\n",
    "                      init='random', n_jobs=-1).fit_transform(X)\n",
    "    X_transformed.shape\n",
    "\n",
    "    # kmeans = KMeans(n_clusters=20, random_state=0).fit(X_transformed)\n",
    "    # kmeans.labels_\n",
    "\n",
    "    dbscan = DBSCAN(eps = 5, n_jobs = -1).fit(X_transformed)\n",
    "    dbscan.labels_\n",
    "    df['cluster_' + str(bo)] = dbscan.labels_\n",
    "    n_clusters_ = len(set(dbscan.labels_)) - (1 if -1 in dbscan.labels_ else 0)\n",
    "    n_noise_ = list(dbscan.labels_).count(-1)\n",
    "    print('Estimated number of clusters', n_clusters_)\n",
    "    print('Estimated number of noise', n_noise_)\n",
    "\n",
    "\n",
    "    colors = [str(k) for k in dbscan.labels_.tolist()]\n",
    "    centroids = np.zeros((len(set(dbscan.labels_)), 2))\n",
    "    for i, label in enumerate(np.unique(dbscan.labels_)):\n",
    "        msk = dbscan.labels_ == label\n",
    "        points = [X_transformed[j,:] for j, value in enumerate(msk) if value]\n",
    "        centroids[i] = np.mean(points, axis=0)\n",
    "\n",
    "\n",
    "\n",
    "\n",
    "    palette = sns.color_palette(\"Paired\") + sns.color_palette(\"Set3\", 12)\n",
    "    g = sns.scatterplot(x = X_transformed[:,0], y = X_transformed[:,1], hue = colors, style=lineages)\n",
    "    g.scatter(x = centroids[:,0], y=centroids[:,1], color='black', marker='+', s=16, linewidths=0.7)\n",
    "    g.set_title('TSNE->DBSCAN on the bin matrix ' + str(bo) + 's')\n",
    "    plt.legend(bbox_to_anchor=(1,1), loc=\"upper left\")\n",
    "    plt.savefig('TSNE->DBSCAN on the bin matrix ' + str(bo) + 's_final.pdf', format='pdf', bbox_inches='tight')\n",
    "    plt.clf()"
   ]
  },
  {
   "cell_type": "code",
   "execution_count": 6,
   "id": "7a130cb3-8089-4bab-b27e-9525c3771768",
   "metadata": {
    "execution": {
     "iopub.execute_input": "2021-11-18T09:27:03.613606Z",
     "iopub.status.busy": "2021-11-18T09:27:03.613141Z",
     "iopub.status.idle": "2021-11-18T09:40:30.603410Z",
     "shell.execute_reply": "2021-11-18T09:40:30.602782Z",
     "shell.execute_reply.started": "2021-11-18T09:27:03.613586Z"
    },
    "tags": []
   },
   "outputs": [
    {
     "name": "stdout",
     "output_type": "stream",
     "text": [
      "Based on 1\n",
      "Lineage B.1.1.7 is now being processed...\n",
      "Lineage B.1.617.2 is now being processed...\n",
      "Lineage AY.12 is now being processed...\n",
      "Lineage AY.9 is now being processed...\n",
      "Lineage AY.4 is now being processed...\n",
      "Lineage B.1.1.318 is now being processed...\n",
      "Lineage AY.7 is now being processed...\n",
      "Based on 2\n",
      "Lineage B.1.1.7 is now being processed...\n",
      "Lineage B.1.617.2 is now being processed...\n",
      "Lineage AY.12 is now being processed...\n",
      "Lineage AY.9 is now being processed...\n",
      "Lineage AY.4 is now being processed...\n",
      "Lineage B.1.1.318 is now being processed...\n",
      "Lineage AY.7 is now being processed...\n",
      "CPU times: user 13min 25s, sys: 15.4 s, total: 13min 41s\n",
      "Wall time: 13min 26s\n"
     ]
    }
   ],
   "source": [
    "%%time\n",
    "counter = count_snps(df, lineages_of_interest, based_on)\n",
    "counter.occurences_of_mutations()"
   ]
  },
  {
   "cell_type": "markdown",
   "id": "2951203b-3dc0-4698-a878-bcc38bbc6e5d",
   "metadata": {},
   "source": [
    "### Calculate nodes dataframe old method(one lineage), new method(multiple lineages)"
   ]
  },
  {
   "cell_type": "code",
   "execution_count": null,
   "id": "8ece7c01-e221-4217-9678-9f2e079e3c8f",
   "metadata": {},
   "outputs": [],
   "source": [
    "# %%time\n",
    "# # ------------- old method -------------\n",
    "# lineage = 'B.1.1.7'\n",
    "# nodes = counter.clusters_intersection()\n",
    "# # nodes = nodes.loc[(nodes['cluster_1'] == 4) & (nodes['cluster_2'] == 0)].copy()\n",
    "# nodes['samples'] = nodes.apply(lambda x: x['samples'][lineage] if lineage in x['samples'] else np.nan, axis = 1)\n",
    "# nodes.dropna(how = 'any', inplace = True)\n",
    "\n",
    "# for bo in based_on:\n",
    "#     bo = str(bo)\n",
    "#     pos_columns = [\"{lineage}_C{cluster}_pos_{bo}\".format(lineage = lineage, cluster = k, bo = bo) for k in nodes['cluster_' + bo].tolist()]\n",
    "#     count_columns = [\"{lineage}_C{cluster}_counts_{bo}\".format(lineage = lineage, cluster = k, bo = bo) for k in nodes['cluster_' + bo].tolist()]\n",
    "#     nodes['based_on_' + bo + '_pos'] = remove_nan_from_list_of_lists( \\\n",
    "#                                             counter.counts.loc[:, pos_columns].values.T.tolist())\n",
    "#     nodes['based_on_' + bo + '_counts'] = remove_nan_from_list_of_lists( \\\n",
    "#                                             counter.counts.loc[:, count_columns].values.T.tolist())\n",
    "#     nodes['snps_on_' + bo] =  nodes.apply(lambda x: [counter.get_snps_from_lineages_clusters_position(x['samples'], \\\n",
    "#                                                  region = 'NC_045512.2', \\\n",
    "#                                                  position = int(k)) for k in x['based_on_' + bo + '_pos']], axis = 1)\n",
    "# nodes\n",
    "\n",
    "# pickle.dump(nodes, open(\"data/nodes\", \"wb\"))\n",
    "# # nodes = pickle.load(open(\"data/nodes\", \"rb\"))"
   ]
  },
  {
   "cell_type": "code",
   "execution_count": 410,
   "id": "5b384a30-37a4-4201-b159-170b2700b26a",
   "metadata": {
    "execution": {
     "iopub.execute_input": "2021-11-25T13:36:25.299330Z",
     "iopub.status.busy": "2021-11-25T13:36:25.298963Z",
     "iopub.status.idle": "2021-11-25T13:36:25.341633Z",
     "shell.execute_reply": "2021-11-25T13:36:25.340864Z",
     "shell.execute_reply.started": "2021-11-25T13:36:25.299307Z"
    },
    "scrolled": true,
    "tags": []
   },
   "outputs": [],
   "source": [
    "# %%time\n",
    "# # ------------- new method for all lineages -------------\n",
    "\n",
    "# nodes = counter.clusters_intersection()\n",
    "\n",
    "# # nodes.dropna(how = 'any', inplace = True)\n",
    "\n",
    "# for bo in based_on:\n",
    "#     bo = str(bo)\n",
    "#     column_pos = []\n",
    "#     column_counts = []\n",
    "#     column_snps = []\n",
    "#     for i in nodes.index:\n",
    "#         d_pos = {}\n",
    "#         d_counts = {}\n",
    "#         d_snps = {}\n",
    "#         for lineage in nodes.loc[i, 'samples'].keys():\n",
    "#             pos_col = \"{lineage}_C{cluster}_pos_{bo}\".format(lineage = lineage, cluster = nodes.loc[i, 'cluster_' + bo], bo = bo)\n",
    "#             count_col = \"{lineage}_C{cluster}_counts_{bo}\".format(lineage = lineage, cluster = nodes.loc[i, 'cluster_' + bo], bo = bo)\n",
    "\n",
    "            \n",
    "#             d_pos[lineage] = remove_nan_from_list( \\\n",
    "#                                     counter.counts.loc[:, pos_col].values.tolist())\n",
    "#             d_counts[lineage] = remove_nan_from_list( \\\n",
    "#                                     counter.counts.loc[:, count_col].values.tolist())\n",
    "#             d_snps[lineage] = [counter.get_snps_from_lineages_clusters_position( \\\n",
    "#                                         nodes.loc[i, 'samples'][lineage], \\\n",
    "#                                         region = 'NC_045512.2', \\\n",
    "#                                         position = int(k)) for k in d_pos[lineage]]\n",
    "            \n",
    "#         column_pos.append(d_pos)\n",
    "#         column_counts.append(d_counts)\n",
    "#         column_snps.append(d_snps)\n",
    "#         print(i, ' done!')\n",
    "\n",
    "#     nodes['based_on_' + bo + '_pos'] = column_pos\n",
    "#     nodes['based_on_' + bo + '_counts'] = column_counts\n",
    "#     nodes['snps_on_' + bo] = column_snps\n",
    "\n",
    "# pickle.dump(nodes, open(\"data/nodes_all\", \"wb\"))\n",
    "nodes = pickle.load(open(\"data/nodes_all\", \"rb\"))"
   ]
  },
  {
   "cell_type": "code",
   "execution_count": 272,
   "id": "284b6bfb-d660-4ccf-8b48-9ea01db7fbfc",
   "metadata": {
    "execution": {
     "iopub.execute_input": "2021-11-24T14:23:03.116676Z",
     "iopub.status.busy": "2021-11-24T14:23:03.116147Z",
     "iopub.status.idle": "2021-11-24T14:23:06.836542Z",
     "shell.execute_reply": "2021-11-24T14:23:06.835915Z",
     "shell.execute_reply.started": "2021-11-24T14:23:03.116657Z"
    },
    "tags": []
   },
   "outputs": [],
   "source": [
    "for i in nodes.index:\n",
    "    counts = {}\n",
    "    samples_dict = nodes.loc[i, 'samples']\n",
    "    for key, value in samples_dict.items():\n",
    "        increase_value_of_dict_by_value_new(counts, key, len(value))\n",
    "    # Pie chart, where the slices will be ordered and plotted counter-clockwise:\n",
    "    (labels, sizes) = zip(*counts.items())\n",
    "    #     labels = 'Frogs', 'Hogs', 'Dogs', 'Logs'\n",
    "    #     sizes = [15, 30, 45, 10]\n",
    "    #     explode = (0, 0.1, 0, 0)  # only \"explode\" the 2nd slice (i.e. 'Hogs')\n",
    "\n",
    "    fig1, ax1 = plt.subplots()\n",
    "    ax1.axis('tight')\n",
    "    ax1.axis('off')\n",
    "#     fig1.set_size_inches(10, 10)\n",
    "    ax1.pie(sizes, labels=labels, autopct='%1.1f%%',\n",
    "            shadow=False, startangle=90, labeldistance = None, rotatelabels = True,\n",
    "               wedgeprops={\"edgecolor\":\"0\",'linewidth': 0})\n",
    "    ax1.axis('equal')  # Equal aspect ratio ensures that pie is drawn as a circle.\n",
    "\n",
    "    plt.savefig('data/circular_images/{}.png'.format(i), transparent=True, bbox_inches='tight', pad_inches = 0)\n",
    "    plt.clf()\n",
    "    plt.close()\n",
    "#     break"
   ]
  },
  {
   "cell_type": "markdown",
   "id": "fbe894aa-355a-42d4-b2e0-da6ee0399c77",
   "metadata": {},
   "source": [
    "### Calculate fully connected graph edges old method(one lineage), new method(multiple lineages)"
   ]
  },
  {
   "cell_type": "code",
   "execution_count": 187,
   "id": "b04bf6b0-35aa-4745-a531-a7c0a719b4ea",
   "metadata": {
    "execution": {
     "iopub.execute_input": "2021-11-05T23:17:05.179082Z",
     "iopub.status.busy": "2021-11-05T23:17:05.178479Z",
     "iopub.status.idle": "2021-11-05T23:17:07.041651Z",
     "shell.execute_reply": "2021-11-05T23:17:07.041025Z",
     "shell.execute_reply.started": "2021-11-05T23:17:05.179060Z"
    },
    "tags": []
   },
   "outputs": [],
   "source": [
    "# # ------------- old ---------------\n",
    "# threshold = 1\n",
    "# edges = []\n",
    "# j_loop_indecies = nodes.index.tolist()\n",
    "# # test = []\n",
    "# for i in nodes.index:\n",
    "#     j_loop_indecies.remove(i)\n",
    "\n",
    "#     pos_i_dict = list_to_index_val_dict(nodes.loc[i, 'based_on_1_pos'] + nodes.loc[i, 'based_on_2_pos'])\n",
    "#     counts_i = nodes.loc[i, 'based_on_1_counts'] + nodes.loc[i, 'based_on_2_counts']\n",
    "# #     print(pos_i_dict)\n",
    "#     for j in j_loop_indecies:\n",
    "#         pos_j_dict = list_to_index_val_dict(nodes.loc[j, 'based_on_1_pos'] + nodes.loc[j, 'based_on_2_pos'])\n",
    "#         counts_j = nodes.loc[j, 'based_on_1_counts'] + nodes.loc[j, 'based_on_2_counts']\n",
    "# #         print(pos_j_dict)\n",
    "#         d = {}\n",
    "#         intersection = list(set(pos_i_dict) & set(pos_j_dict))\n",
    "#         for inter in intersection:\n",
    "# #             test.append((pos_i_dict[inter], pos_j_dict[inter]))\n",
    "# #             d[inter] = ((pos_i_dict[inter], get_list_items_from_idx_list(counts_i, pos_i_dict[inter])), \n",
    "# #                         (pos_j_dict[inter], get_list_items_from_idx_list(counts_j, pos_j_dict[inter])))\n",
    "#             d[str(int(inter))] = min(get_list_items_from_idx_list(counts_i, pos_i_dict[inter]) + \n",
    "#                            get_list_items_from_idx_list(counts_j, pos_j_dict[inter]))\n",
    "        \n",
    "#         keys_to_be_deleted = []\n",
    "#         for key, value in d.items():\n",
    "#             if value < threshold:\n",
    "#                 keys_to_be_deleted.append(key)\n",
    "#         for key in keys_to_be_deleted:\n",
    "#             d.pop(key)\n",
    "#         if not d:\n",
    "#             print('Empty')\n",
    "#         title = pd.DataFrame.from_dict(d, orient = 'index', columns = ['weights']) \\\n",
    "#                             .reset_index() \\\n",
    "#                             .rename(columns = {'index':'position'}) \\\n",
    "#                             .to_html(index = False)\n",
    "#         edges.append((i, j, {'weights' : d,\n",
    "#                              'weight' : len(d),\n",
    "#                              'value' : len(d),\n",
    "#                              'title' : title}))\n",
    "# #         print(d)\n",
    "# #         break\n",
    "# #     break"
   ]
  },
  {
   "cell_type": "code",
   "execution_count": 395,
   "id": "117679fa-eaf7-411b-aec5-4d840858bfef",
   "metadata": {
    "execution": {
     "iopub.execute_input": "2021-11-25T13:04:54.891029Z",
     "iopub.status.busy": "2021-11-25T13:04:54.890842Z",
     "iopub.status.idle": "2021-11-25T13:05:01.390390Z",
     "shell.execute_reply": "2021-11-25T13:05:01.389883Z",
     "shell.execute_reply.started": "2021-11-25T13:04:54.891012Z"
    },
    "tags": []
   },
   "outputs": [],
   "source": [
    "# ------------- new ---------------\n",
    "threshold = 1\n",
    "edges = []\n",
    "j_loop_indecies = nodes.index.tolist()\n",
    "# test = []\n",
    "for i in nodes.index:\n",
    "    j_loop_indecies.remove(i)\n",
    "\n",
    "    keys_i = nodes.loc[i, 'samples'].keys()\n",
    "    \n",
    "    for key_i in keys_i:\n",
    "        pos_i_dict = list_to_index_val_dict(nodes.loc[i, 'based_on_1_pos'][key_i] + nodes.loc[i, 'based_on_2_pos'][key_i])\n",
    "        counts_i = nodes.loc[i, 'based_on_1_counts'][key_i] + nodes.loc[i, 'based_on_2_counts'][key_i]\n",
    "    #     print(pos_i_dict)\n",
    "        for j in j_loop_indecies:\n",
    "            for key_j in nodes.loc[j, 'samples']:\n",
    "                pos_j_dict = list_to_index_val_dict(nodes.loc[j, 'based_on_1_pos'][key_j] + nodes.loc[j, 'based_on_2_pos'][key_j])\n",
    "                counts_j = nodes.loc[j, 'based_on_1_counts'][key_j] + nodes.loc[j, 'based_on_2_counts'][key_j]\n",
    "        #         print(pos_j_dict)\n",
    "                d = {}\n",
    "                intersection = list(set(pos_i_dict) & set(pos_j_dict))\n",
    "                for inter in intersection:\n",
    "                    d[str(int(inter))] = min(get_list_items_from_idx_list(counts_i, pos_i_dict[inter]) + \n",
    "                                             get_list_items_from_idx_list(counts_j, pos_j_dict[inter]))\n",
    "\n",
    "                keys_to_be_deleted = []\n",
    "                for key, value in d.items():\n",
    "                    if value < threshold:\n",
    "                        keys_to_be_deleted.append(key)\n",
    "                for key in keys_to_be_deleted:\n",
    "                    d.pop(key)\n",
    "                if d:\n",
    "                    (pos, min_weight) = zip(*d.items())\n",
    "                    length = len(pos)\n",
    "                    _from = [key_i] * length\n",
    "                    _to = [key_j] * length\n",
    "\n",
    "                    if len(pos) == len(min_weight) == len(_from) == len(_to):\n",
    "                        title = pd.DataFrame.from_records(zip(_from, _to, pos, min_weight), columns = ['from', 'to', 'position', 'weights']).to_html(index = False)\n",
    "                        edges.append((i, j, {'weights' : d,\n",
    "                                             'value' : len(d),\n",
    "                                             'title' : title}))\n",
    "                    else:\n",
    "                        print('Something went wrong with the lengths')\n",
    "        #         print(d)\n",
    "        #         break\n",
    "        #     break"
   ]
  },
  {
   "cell_type": "code",
   "execution_count": 173,
   "id": "abcb876b-d4d4-4326-ae60-a82ec1828016",
   "metadata": {
    "execution": {
     "iopub.execute_input": "2021-11-24T11:57:42.591748Z",
     "iopub.status.busy": "2021-11-24T11:57:42.591110Z",
     "iopub.status.idle": "2021-11-24T11:57:42.740474Z",
     "shell.execute_reply": "2021-11-24T11:57:42.739944Z",
     "shell.execute_reply.started": "2021-11-24T11:57:42.591727Z"
    },
    "tags": []
   },
   "outputs": [
    {
     "data": {
      "image/png": "[encoded data removed]",
      "text/plain": [
       "<Figure size 432x288 with 1 Axes>"
      ]
     },
     "metadata": {},
     "output_type": "display_data"
    }
   ],
   "source": [
    "from scipy.stats import norm\n",
    "Q = 400\n",
    "cols = {\n",
    "    'from' : [],\n",
    "    'to' : [],\n",
    "    'weight' : []\n",
    "}\n",
    "for edge in edges:\n",
    "    cols['from'].append(edge[0])\n",
    "    cols['to'].append(edge[1])\n",
    "    cols['weight'].append(edge[2]['value'])\n",
    "    \n",
    "x = cols['weight']\n",
    "_std = statistics.pstdev(cols['weight'])\n",
    "_mean = statistics.mean(cols['weight'])\n",
    "_min = min(cols['weight'])\n",
    "_max = max(cols['weight'])\n",
    "# cols['weight'] = [((w - _min) / (_max - _min)) * Q  for w in cols['weight']]\n",
    "cols['weight'] = [(w - _mean) / _std for w in cols['weight']]\n",
    "cols['weight'] = norm.cdf(cols['weight'], loc=0, scale=0.04) * Q\n",
    "pd.DataFrame.from_dict(cols).to_csv('data/fully-connected-graph.csv', header = False, index = False, sep = \" \")\n",
    "x = cols['weight']\n",
    "plt.scatter(range(len(x)), x)\n",
    "\n",
    "plt.title('How to calculate and plot a cumulative distribution function ?')\n",
    "\n",
    "plt.show()"
   ]
  },
  {
   "cell_type": "code",
   "execution_count": 174,
   "id": "fe40e654-cfc6-4dc8-a1c5-68d98b4ab4a4",
   "metadata": {
    "execution": {
     "iopub.execute_input": "2021-11-24T11:57:46.445018Z",
     "iopub.status.busy": "2021-11-24T11:57:46.444474Z",
     "iopub.status.idle": "2021-11-24T11:57:46.619020Z",
     "shell.execute_reply": "2021-11-24T11:57:46.618203Z",
     "shell.execute_reply.started": "2021-11-24T11:57:46.444997Z"
    },
    "scrolled": true,
    "tags": []
   },
   "outputs": [
    {
     "name": "stdout",
     "output_type": "stream",
     "text": [
      "[mcl] new tab created\n",
      "[mcl] pid 16259\n",
      " ite ---------------  chaos  time hom(avg,lo,hi) m-ie m-ex i-ex fmv\n",
      "  1  ...............   2.52  0.00 1.16/0.73/2.93 0.98 0.72 0.72 100\n",
      "  2  ...............   4.71  0.00 0.74/0.34/1.23 0.53 0.45 0.32 100\n",
      "  3  ...............   2.48  0.00 0.91/0.52/1.22 0.57 0.28 0.09 100\n",
      "  4  ...............   0.09  0.00 1.00/0.91/1.00 0.31 0.19 0.02  36\n",
      "  5  ...............   0.00  0.00 1.00/1.00/1.00 0.99 0.91 0.02   0\n",
      "[mcl] jury pruning marks: <99,99,99>, out of 100\n",
      "[mcl] jury pruning synopsis: <99.0 or perfect> (cf -scheme, -do log)\n",
      "[mcl] output is in data/fully-connected-graph-clusters.out\n",
      "[mcl] 9 clusters found\n",
      "[mcl] output is in data/fully-connected-graph-clusters.out\n",
      "\n",
      "Please cite:\n",
      "    Stijn van Dongen, Graph Clustering by Flow Simulation.  PhD thesis,\n",
      "    University of Utrecht, May 2000.\n",
      "       (  http://www.library.uu.nl/digiarchief/dip/diss/1895620/full.pdf\n",
      "       or  http://micans.org/mcl/lit/svdthesis.pdf.gz)\n",
      "OR\n",
      "    Stijn van Dongen, A cluster algorithm for graphs. Technical\n",
      "    Report INS-R0010, National Research Institute for Mathematics\n",
      "    and Computer Science in the Netherlands, Amsterdam, May 2000.\n",
      "       (  http://www.cwi.nl/ftp/CWIreports/INS/INS-R0010.ps.Z\n",
      "       or  http://micans.org/mcl/lit/INS-R0010.ps.Z)\n",
      "\n"
     ]
    }
   ],
   "source": [
    "!mcl data/fully-connected-graph.csv --abc -I 30 -scheme 7 -o data/fully-connected-graph-clusters.out\n",
    "# !mcxload -abc data/fully-connected-graph.csv --stream-mirror -write-tab data.tab -o data/fully-connected-graph.mci\n",
    "# !mcxi /data/fully-connected-graph.mci lm tp -1 mul add /data/check wm\n",
    "# !mcxdump -imx data/data/check -tab data.tab --dump-table"
   ]
  },
  {
   "cell_type": "markdown",
   "id": "baff1b94-a2ce-4c01-8293-903dac19d3d7",
   "metadata": {},
   "source": [
    "### Calculate arrow edges old method(one lineage), new method(multiple lineages)"
   ]
  },
  {
   "cell_type": "code",
   "execution_count": 202,
   "id": "e7da8bc4-3392-47dd-9e12-a44c66cad852",
   "metadata": {
    "execution": {
     "iopub.execute_input": "2021-11-08T14:08:57.021159Z",
     "iopub.status.busy": "2021-11-08T14:08:57.020521Z",
     "iopub.status.idle": "2021-11-08T14:08:58.041152Z",
     "shell.execute_reply": "2021-11-08T14:08:58.040387Z",
     "shell.execute_reply.started": "2021-11-08T14:08:57.021137Z"
    },
    "scrolled": true,
    "tags": []
   },
   "outputs": [],
   "source": [
    "# -----------------old-----------------\n",
    "# edges = []\n",
    "\n",
    "# for bo in based_on:\n",
    "#     fo = str(based_on[~based_on.index(bo)])\n",
    "#     bo = str(bo)\n",
    "#     for i in nodes.index:\n",
    "\n",
    "\n",
    "#         pos_i = nodes.loc[i, 'based_on_' + bo + '_pos']\n",
    "\n",
    "#         same_clusters = nodes.loc[(nodes['cluster_' + bo] == nodes.loc[i, 'cluster_' + bo]) & \\\n",
    "#                                   (nodes['cluster_' + fo] != nodes.loc[i, 'cluster_' + fo]), :]\n",
    "\n",
    "#         if not same_clusters.empty:\n",
    "#     #             print(same_clusters[['cluster_1', 'cluster_2']])\n",
    "#             for j in same_clusters.index:\n",
    "#                 d = {}\n",
    "#                 for l, snp_i in enumerate(nodes.loc[i, 'snps_on_'+ bo]):\n",
    "#                     if snp_i[0] == 0:\n",
    "#                         pos_j = same_clusters.loc[j, 'based_on_' + bo + '_pos']\n",
    "\n",
    "#                         for k, snp_j in enumerate(same_clusters.loc[j, 'snps_on_'+ bo]):\n",
    "#                             if (snp_j[0] > 0) and (pos_j[k] == pos_i[l]):\n",
    "#     #                                 print('on {bo} empty pos {pos_i} of clust {i} -> {pos_j} of clust {j}'.format(bo = bo, pos_i = pos_i[l], pos_j = pos_j[k], i = i, j = j))\n",
    "#                                 d[pos_i[l]] = (snp_i, snp_j)\n",
    "#             if d:\n",
    "#                 title = pd.DataFrame.from_dict(d, orient = 'index', columns = ['from', 'to']) \\\n",
    "#                             .reset_index() \\\n",
    "#                             .rename(columns = {'index':'position'}) \\\n",
    "#                             .to_html(index = False)\n",
    "#                 edges.append((i, j, {'color' : 'blue' if bo == \"1\" else 'red',\n",
    "#                                      'arrows' : 'to',\n",
    "#                                      'data' : d, \n",
    "#                                      'title' : title}))"
   ]
  },
  {
   "cell_type": "code",
   "execution_count": 420,
   "id": "a94ab9f6-32c4-4954-a267-cdb8e71af1b1",
   "metadata": {
    "execution": {
     "iopub.execute_input": "2021-11-25T13:45:03.562268Z",
     "iopub.status.busy": "2021-11-25T13:45:03.562033Z",
     "iopub.status.idle": "2021-11-25T13:45:05.127219Z",
     "shell.execute_reply": "2021-11-25T13:45:05.126473Z",
     "shell.execute_reply.started": "2021-11-25T13:45:03.562230Z"
    },
    "tags": []
   },
   "outputs": [],
   "source": [
    "# -----------------new-----------------\n",
    "edges = []\n",
    "for bo in based_on:\n",
    "    fo = str(based_on[~based_on.index(bo)])\n",
    "    bo = str(bo)\n",
    "    for i in nodes.index:\n",
    "\n",
    "\n",
    "        pos_i = flatten_list_of_lists(list(nodes.loc[i, 'based_on_' + bo + '_pos'].values()))\n",
    "\n",
    "        same_clusters = nodes.loc[(nodes['cluster_' + bo] == nodes.loc[i, 'cluster_' + bo]) & \\\n",
    "                                  (nodes['cluster_' + fo] != nodes.loc[i, 'cluster_' + fo]), :]\n",
    "\n",
    "        if not same_clusters.empty:\n",
    "    #             print(same_clusters[['cluster_1', 'cluster_2']])\n",
    "            for j in same_clusters.index:\n",
    "                d = {}\n",
    "                i_snps = flatten_list_of_lists(list(nodes.loc[i, 'snps_on_'+ bo].values()))\n",
    "                for l, snp_i in enumerate(i_snps):\n",
    "                    if snp_i[0] == 0:\n",
    "                        pos_j = flatten_list_of_lists(list(same_clusters.loc[j, 'based_on_' + bo + '_pos'].values()))\n",
    "                        j_snps = flatten_list_of_lists(list(same_clusters.loc[j, 'snps_on_'+ bo].values()))\n",
    "                        \n",
    "                        for k, snp_j in enumerate(j_snps):\n",
    "                            if (snp_j[0] > 0) and (pos_j[k] == pos_i[l]):\n",
    "    #                                 print('on {bo} empty pos {pos_i} of clust {i} -> {pos_j} of clust {j}'.format(bo = bo, pos_i = pos_i[l], pos_j = pos_j[k], i = i, j = j))\n",
    "                                d[pos_i[l]] = (snp_i, snp_j)\n",
    "            if d:\n",
    "                title = pd.DataFrame.from_dict(d, orient = 'index', columns = ['from', 'to']) \\\n",
    "                            .reset_index() \\\n",
    "                            .rename(columns = {'index':'position'}) \\\n",
    "                            .to_html(index = False)\n",
    "                edges.append((i, j, {'color' : 'blue' if bo == \"1\" else 'red',\n",
    "                                     'arrows' : 'to',\n",
    "                                     'data' : d, \n",
    "                                     'title' : title\n",
    "                                    }))"
   ]
  },
  {
   "cell_type": "markdown",
   "id": "c159218a-308f-4c71-a6e6-3f64cef1c18b",
   "metadata": {},
   "source": [
    "### Initiate graph old method(one lineage), new method(multiple lineages)"
   ]
  },
  {
   "cell_type": "code",
   "execution_count": null,
   "id": "ebb267d2-7c22-469f-8bb8-c5d979b08714",
   "metadata": {
    "tags": []
   },
   "outputs": [],
   "source": [
    "#-------------------old--------------\n",
    "# G = nx.DiGraph(name = lineage)\n",
    "# G.add_nodes_from(list(nodes.to_dict(orient='index').items()))\n",
    "\n",
    "\n",
    "# G.add_edges_from(edges)\n",
    "\n",
    "\n",
    "# net = Network(height='750px', width='100%', bgcolor='#222222', font_color='white', notebook = True, directed = True, heading = G.name)\n",
    "\n",
    "# net.from_nx(G)\n",
    "# for i in range(len(net.nodes)):\n",
    "#     pos = []\n",
    "#     snps = []\n",
    "#     index = []\n",
    "#     total = []\n",
    "#     f = []\n",
    "# #     total_len = 0\n",
    "#     for bo in based_on:\n",
    "#         bo = str(bo)\n",
    "        \n",
    "#         pos = extend_list(pos, [int(k) for k in net.nodes[i]['based_on_{}_pos'.format(bo)]])\n",
    "#         f = extend_list(f, [\"{:.2f}\".format(k) for k in net.nodes[i]['based_on_{}_counts'.format(bo)]])\n",
    "#         length = len(pos)\n",
    "#         index = extend_list(index, [bo] * length)\n",
    "        \n",
    "#         total = extend_list(total, [k[0] for k in net.nodes[i]['snps_on_{}'.format(bo)]])\n",
    "#         snps = extend_list(snps, [str(k[1]) for k in net.nodes[i]['snps_on_{}'.format(bo)]])\n",
    "    \n",
    "#     print(len(pos))\n",
    "#     print(len(index))\n",
    "#     net.nodes[i]['title'] = pd.DataFrame.from_records(zip(index, pos, f, total, snps), columns = ['Based_on','Position', 'f', 'Total', 'Snps']).to_html(index = False) \n",
    "# #         total_len = total_len + length \n",
    "# #     net.nodes[i]['label'] = total_len\n",
    "\n",
    "# # net.show('example3.html')"
   ]
  },
  {
   "cell_type": "code",
   "execution_count": null,
   "id": "d6455aa0-9c56-4853-bcc1-8b1012272286",
   "metadata": {
    "tags": []
   },
   "outputs": [],
   "source": [
    "#-------------------new--------------\n",
    "d = pd.read_csv('data/fully-connected-graph-clusters.out', sep='\\t', header = None).T.to_dict(orient='list')\n",
    "d = remove_nan_from_dict_of_lists(d)\n",
    "d = int_dict_of_lists(d)\n",
    "groups = {}\n",
    "for key, value in d.items():\n",
    "    for element in value:\n",
    "        groups[element] = key\n",
    "\n",
    "nodes['id'] = nodes.index\n",
    "        \n",
    "G = nx.DiGraph(name = lineages_of_interest)\n",
    "G.add_nodes_from(list(nodes.to_dict(orient='index').items()))\n",
    "\n",
    "\n",
    "G.add_edges_from(edges)\n",
    "\n",
    "net = Network(height='750px', width='100%', bgcolor='#222222', font_color='white', notebook = True, directed = True, heading = \" \".join(str(x) for x in G.name))\n",
    "net.set_options(json.dumps({\n",
    "    \"configure\": {\n",
    "        \"enabled\": False\n",
    "    },\n",
    "    \"nodes\":{\n",
    "        \"borderWidth\": 10,\n",
    "        \"borderWidthSelected\": 10,\n",
    "        \"size\": 400,\n",
    "        \"chosen\": True,\n",
    "        \"font\": {\n",
    "            \"size\": 11,\n",
    "        }\n",
    "    },\n",
    "    \"edges\": {\n",
    "        \"scaling\": {\n",
    "            \"min\": 0.1,\n",
    "            \"max\": 1,\n",
    "        },\n",
    "        \"selectionWidth\" : 0,\n",
    "        \"color\": {\n",
    "            \"inherit\": False\n",
    "        },\n",
    "        \"smooth\": {\n",
    "            \"enabled\": False,\n",
    "            \"type\": \"continuous\"\n",
    "        }\n",
    "    },\n",
    "    \"interaction\": {\n",
    "        \"dragNodes\": True,\n",
    "        \"hideEdgesOnDrag\": False,\n",
    "        \"hideNodesOnDrag\": False\n",
    "    },\n",
    "    \"physics\": {\n",
    "        \"enabled\": False,\n",
    "    },\n",
    "    \"layout\": {\n",
    "        \"randomSeed\": 100,\n",
    "    }\n",
    "}))\n",
    "\n",
    "net.from_nx(G)\n",
    "for i in range(len(net.nodes)):\n",
    "    pos = []\n",
    "    snps = []\n",
    "    index = []\n",
    "    total = []\n",
    "    lineage = []\n",
    "    f = []\n",
    "#     total_len = 0\n",
    "    for bo in based_on:\n",
    "        for lin in net.nodes[i]['based_on_{}_pos'.format(bo)].keys():\n",
    "            bo = str(bo)\n",
    "\n",
    "            pos = extend_list(pos, [int(k) for k in net.nodes[i]['based_on_{}_pos'.format(bo)][lin]])\n",
    "            f = extend_list(f, [\"{:.2f}\".format(k) for k in net.nodes[i]['based_on_{}_counts'.format(bo)][lin]])\n",
    "            \n",
    "            length = len(net.nodes[i]['based_on_{}_pos'.format(bo)][lin])\n",
    "            index = extend_list(index, [bo] * length)\n",
    "            lineage = extend_list(lineage, [lin] * length)\n",
    "\n",
    "\n",
    "            total = extend_list(total, [k[0] for k in net.nodes[i]['snps_on_{}'.format(bo)][lin]])\n",
    "            snps = extend_list(snps, [str(k[1]) for k in net.nodes[i]['snps_on_{}'.format(bo)][lin]])\n",
    "            \n",
    "    if len(index) == len(lineage) == len(pos) == len(f) == len(total) == len(snps):\n",
    "        net.nodes[i]['title'] = pd.DataFrame.from_records(zip(index, lineage, pos, f, total, snps), columns = ['Based_on', 'Lineage', 'Position', 'f', 'Total', 'Snps']).to_html(index = False) \n",
    "    #     total_len = total_len + length \n",
    "        net.nodes[i]['label'] = \" \".join(str(x) for x in list(set(lineage))) + '\\n' + str(net.nodes[i]['id'])\n",
    "        net.nodes[i]['group'] = groups[net.nodes[i]['id']]\n",
    "        net.nodes[i]['shape'] = \"circularImage\"\n",
    "        net.nodes[i]['image'] = \"data/circular_images/{}.png\".format(net.nodes[i]['id'])\n",
    "#         net.nodes[i]['color'] = 'black'\n",
    "    else:\n",
    "        print('Something went wrong with the lengths')\n",
    "\n",
    "net.show('example6.html')"
   ]
  }
 ],
 "metadata": {
  "interpreter": {
   "hash": "a5b97e74367631547d7229aa49ac9f7269aa0e8eb32fb7ade79670c96e50d1e2"
  },
  "kernelspec": {
   "display_name": "Python [conda env:sars-cov-2]",
   "language": "python",
   "name": "conda-env-sars-cov-2-py"
  },
  "language_info": {
   "codemirror_mode": {
    "name": "ipython",
    "version": 3
   },
   "file_extension": ".py",
   "mimetype": "text/x-python",
   "name": "python",
   "nbconvert_exporter": "python",
   "pygments_lexer": "ipython3",
   "version": "3.9.7"
  }
 },
 "nbformat": 4,
 "nbformat_minor": 5
}

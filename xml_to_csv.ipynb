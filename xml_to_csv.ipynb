{
 "cells": [
  {
   "cell_type": "code",
   "execution_count": 1,
   "id": "0383d020-7911-4694-91db-e8ffe92466c2",
   "metadata": {
    "execution": {
     "iopub.execute_input": "2021-09-23T11:47:38.599431Z",
     "iopub.status.busy": "2021-09-23T11:47:38.599006Z",
     "iopub.status.idle": "2021-09-23T11:47:38.825211Z",
     "shell.execute_reply": "2021-09-23T11:47:38.824593Z",
     "shell.execute_reply.started": "2021-09-23T11:47:38.599351Z"
    },
    "tags": []
   },
   "outputs": [],
   "source": [
    "import pandas as pd\n",
    "import xmltodict"
   ]
  },
  {
   "cell_type": "code",
   "execution_count": 2,
   "id": "f77c79cc-e790-4b64-bc29-4d52c297357b",
   "metadata": {
    "execution": {
     "iopub.execute_input": "2021-09-23T11:47:38.826066Z",
     "iopub.status.busy": "2021-09-23T11:47:38.825929Z",
     "iopub.status.idle": "2021-09-23T11:47:39.840303Z",
     "shell.execute_reply": "2021-09-23T11:47:39.839605Z",
     "shell.execute_reply.started": "2021-09-23T11:47:38.826051Z"
    },
    "tags": []
   },
   "outputs": [],
   "source": [
    "with open('data/biosample_result.xml', 'r') as myfile:\n",
    "    obj = xmltodict.parse(myfile.read())\n",
    "    \n",
    "data = {}\n",
    "for i, sample in enumerate(obj['BioSampleSet']['BioSample']):\n",
    "    temp = {\n",
    "        'Title' : sample['Description']['Title'],\n",
    "        'id' : sample['@id'],\n",
    "        'access' : sample['@access'],\n",
    "        'publication_date' : sample['@publication_date'],\n",
    "        'last_update' : sample['@last_update'],\n",
    "        'submission_date' : sample['@submission_date'],\n",
    "        'accession' : sample['@accession'],\n",
    "        sample['Ids']['Id'][0]['@db'] : sample['Ids']['Id'][0]['#text'],\n",
    "        list(sample['Ids']['Id'][0].keys())[1][1:] : sample['Ids']['Id'][0]['@is_primary'],\n",
    "        sample['Ids']['Id'][1]['@db'] : sample['Ids']['Id'][1]['#text'],\n",
    "        'taxonomy_id' : sample['Description']['Organism']['@taxonomy_id'],\n",
    "        'taxonomy_name' : sample['Description']['Organism']['@taxonomy_name'],\n",
    "        'OrganismName' : sample['Description']['Organism']['OrganismName'],\n",
    "        'owner_name' : sample['Owner']['Name'],\n",
    "        'model' : sample['Models']['Model'],\n",
    "        'package' : sample['Package']['#text'],\n",
    "        'status' : sample['Status']['@status'],\n",
    "        'when' : sample['Status']['@when']\n",
    "    }\n",
    "    temp.update({k['@attribute_name'] : k['#text'] for k in sample['Attributes']['Attribute']})\n",
    "    data[i] = temp\n",
    "# sample['Attributes']['Attribute']\n",
    "df = pd.DataFrame.from_dict(data, orient='index').set_index('Title')\n",
    "df.to_csv('data/biosample_result.csv')"
   ]
  }
 ],
 "metadata": {
  "kernelspec": {
   "display_name": "Python [conda env:sars-cov-2]",
   "language": "python",
   "name": "conda-env-sars-cov-2-py"
  },
  "language_info": {
   "codemirror_mode": {
    "name": "ipython",
    "version": 3
   },
   "file_extension": ".py",
   "mimetype": "text/x-python",
   "name": "python",
   "nbconvert_exporter": "python",
   "pygments_lexer": "ipython3",
   "version": "3.9.7"
  }
 },
 "nbformat": 4,
 "nbformat_minor": 5
}

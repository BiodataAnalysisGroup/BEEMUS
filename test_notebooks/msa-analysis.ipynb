{
 "cells": [
  {
   "cell_type": "code",
   "execution_count": null,
   "id": "0fbbd1f3-534b-4301-a284-dd44f746989b",
   "metadata": {
    "tags": []
   },
   "outputs": [],
   "source": [
    "from Bio import SeqIO\n",
    "import numpy as np\n",
    "from scipy.stats import entropy\n",
    "import matplotlib.pylab as plt\n",
    "from sklearn import metrics\n",
    "from tqdm.notebook import trange\n",
    "from joblib import Parallel, delayed\n",
    "\n",
    "import json"
   ]
  },
  {
   "cell_type": "code",
   "execution_count": null,
   "id": "e4719376-660b-41f8-bfd7-4ae79bc37cdb",
   "metadata": {
    "tags": []
   },
   "outputs": [],
   "source": [
    "names = []\n",
    "seqs = []\n",
    "lengths = []\n",
    "uniques = []\n",
    "for seq_record in SeqIO.parse(\"data/combined-MSA.fasta\", \"fasta\"):\n",
    "    names.append(seq_record.id)\n",
    "    seqs.append(str(seq_record.seq))\n",
    "    uniques.append(list(set(str(seq_record.seq))))\n",
    "    lengths.append(len(seq_record))"
   ]
  },
  {
   "cell_type": "code",
   "execution_count": null,
   "id": "3623bbf9-462f-4cee-95fd-14e4e0e8ba56",
   "metadata": {
    "tags": []
   },
   "outputs": [],
   "source": [
    "array = np.array([list(word) for word in seqs]).T"
   ]
  },
  {
   "cell_type": "code",
   "execution_count": null,
   "id": "5c3be8f2-8760-4ff3-bde0-82c21c9f855d",
   "metadata": {
    "tags": []
   },
   "outputs": [],
   "source": [
    "probabilities = []\n",
    "for i in range(array.shape[0]):\n",
    "    uniques, counts = np.unique(array[i], return_counts=True)\n",
    "    d = {u : c for u, c in zip(uniques, counts)}\n",
    "    d.pop(\"-\", None)\n",
    "    s = sum(d.values())\n",
    "    p = []\n",
    "    for key, value in d.items():\n",
    "        p.append(value / s)\n",
    "    probabilities.append(p)"
   ]
  },
  {
   "cell_type": "code",
   "execution_count": null,
   "id": "7087c462-f805-4785-8b70-8fcb2ef83393",
   "metadata": {
    "tags": []
   },
   "outputs": [],
   "source": [
    "entropies = np.array([entropy(prob, base=2) for prob in probabilities])\n",
    "# msk = np.argwhere(entropies > 0)\n",
    "# msk = np.reshape(msk, (msk.shape[0],))\n",
    "\n",
    "n = 500\n",
    "\n",
    "idx = np.argpartition(entropies, -n)[-n:]\n",
    "msk = idx[np.argsort((-entropies)[idx])]\n",
    "\n",
    "entropies = np.reshape(entropies[msk], (entropies[msk].shape[0],))"
   ]
  },
  {
   "cell_type": "code",
   "execution_count": null,
   "id": "67c6a2b2-3fba-4e8d-a728-7e54e8236b8a",
   "metadata": {
    "tags": []
   },
   "outputs": [],
   "source": [
    "list(zip(msk, entropies))"
   ]
  },
  {
   "cell_type": "code",
   "execution_count": null,
   "id": "8fc40675-44c5-41ba-b266-d863a0128f3b",
   "metadata": {
    "tags": []
   },
   "outputs": [],
   "source": [
    "plt.bar(msk, entropies)\n",
    "plt.savefig('barplot.pdf')\n",
    "plt.show()"
   ]
  },
  {
   "cell_type": "code",
   "execution_count": null,
   "id": "be48fdd8-a0fc-4e29-bdb4-615b16cc775a",
   "metadata": {
    "tags": []
   },
   "outputs": [],
   "source": [
    "def mutualinfo_vect(array, length, i):\n",
    "    res = np.zeros(shape=(length))\n",
    "    for j in range(i, length):\n",
    "        res[j] = metrics.mutual_info_score(array[i], array[j])\n",
    "    return res\n",
    "\n",
    "\n",
    "def check_symmetric(a, rtol=1e-05, atol=1e-08):\n",
    "    return np.allclose(a, a.T, rtol=rtol, atol=atol)"
   ]
  },
  {
   "cell_type": "code",
   "execution_count": null,
   "id": "86263036-c9b4-46f9-b4cf-6fb8231fc727",
   "metadata": {
    "tags": []
   },
   "outputs": [],
   "source": [
    "length = array.shape[0]\n",
    "\n",
    "mutual_info = Parallel(n_jobs=16)(delayed(mutualinfo_vect)(array, length, i) for i in trange(length))\n",
    "\n",
    "mutual_info = np.stack(mutual_info)\n",
    "\n",
    "np.save('data/mutual_info.npy', mutual_info)"
   ]
  },
  {
   "cell_type": "code",
   "execution_count": null,
   "id": "d568a92a-8d81-4f23-8fbc-d154bdb454e6",
   "metadata": {
    "tags": []
   },
   "outputs": [],
   "source": [
    "mutual_info = np.load('data/mutual_info.npy')"
   ]
  },
  {
   "cell_type": "code",
   "execution_count": null,
   "id": "98498b96-832d-4b40-a16a-33fca179e2cd",
   "metadata": {
    "tags": []
   },
   "outputs": [],
   "source": [
    "checkpoints = []\n",
    "checkpoints_rel = {}\n",
    "hops = []\n",
    "threshold = 0.6\n",
    "k = 0\n",
    "for i in trange(mutual_info.shape[0]):\n",
    "    if np.any(mutual_info[i] > threshold):\n",
    "        k = k + 1\n",
    "        checkpoints.append({'checkpoint' : i, 'sequence' : k})\n",
    "        checkpoints_rel[i] = k\n",
    "\n",
    "        \n",
    "k = 0\n",
    "for i in trange(mutual_info.shape[0]):\n",
    "    if np.any(mutual_info[i] > threshold):\n",
    "        k = k + 1\n",
    "        for j in range(mutual_info.shape[1]):\n",
    "            if mutual_info[i, j] > threshold and i != j:\n",
    "                hops.append({\"source\" : k,\n",
    "                             \"target\" : checkpoints_rel[j],\n",
    "                             \"value\" : 10000,\n",
    "    #                          \"region\":\"AUS\",\n",
    "    #                          \"team\":\"CHEETAHS\",\"product\":\"JIRA\",\n",
    "                             \"seriescount\" : 1})\n",
    "len(checkpoints)"
   ]
  },
  {
   "cell_type": "code",
   "execution_count": null,
   "id": "a7d28961-ef8e-428c-8e75-03c1add7023d",
   "metadata": {
    "tags": []
   },
   "outputs": [],
   "source": [
    "d = {'checkpoints' : checkpoints,\n",
    "     'hops' : hops}\n",
    "\n",
    "with open(\"d3jump/jp.json\", \"w\") as outfile:\n",
    "    json.dump(d, outfile)"
   ]
  }
 ],
 "metadata": {
  "kernelspec": {
   "display_name": "Python [conda env:sars-cov-2]",
   "language": "python",
   "name": "conda-env-sars-cov-2-py"
  },
  "language_info": {
   "codemirror_mode": {
    "name": "ipython",
    "version": 3
   },
   "file_extension": ".py",
   "mimetype": "text/x-python",
   "name": "python",
   "nbconvert_exporter": "python",
   "pygments_lexer": "ipython3",
   "version": "3.9.7"
  }
 },
 "nbformat": 4,
 "nbformat_minor": 5
}

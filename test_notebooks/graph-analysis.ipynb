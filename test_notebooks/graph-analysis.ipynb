{
 "cells": [
  {
   "cell_type": "code",
   "execution_count": 148,
   "id": "2e566d4c",
   "metadata": {
    "tags": []
   },
   "outputs": [
    {
     "name": "stdout",
     "output_type": "stream",
     "text": [
      "The autoreload extension is already loaded. To reload it, use:\n",
      "  %reload_ext autoreload\n"
     ]
    }
   ],
   "source": [
    "%load_ext autoreload\n",
    "%autoreload 2\n",
    "\n",
    "import pandas as pd\n",
    "import numpy as np\n",
    "import networkx as nx\n",
    "from pyvis.network import Network\n",
    "\n",
    "from sklearn.manifold import TSNE\n",
    "from sklearn.cluster import KMeans\n",
    "from sklearn.cluster import DBSCAN\n",
    "\n",
    "from src.helpers import *\n",
    "\n",
    "import seaborn as sns\n",
    "import matplotlib\n",
    "import matplotlib.pylab as plt\n",
    "from pylab import *\n",
    "import math\n",
    "import pickle\n",
    "import itertools\n",
    "import random\n",
    "import json\n",
    "import statistics\n",
    "import copy\n",
    "import colorsys\n",
    "\n",
    "from joblib import Parallel, delayed\n",
    "\n",
    "\n",
    "from Bio import SeqIO\n",
    "from Bio.SeqRecord import SeqRecord\n",
    "from Bio.Seq import Seq\n",
    "\n",
    "from src.vcfs_parser import parser\n",
    "from src.counts import count_snps\n",
    "from src.msa_analysis import msa_parser"
   ]
  },
  {
   "cell_type": "code",
   "execution_count": 115,
   "id": "ce400c97",
   "metadata": {
    "tags": []
   },
   "outputs": [],
   "source": [
    "based_on = [1, 2]\n",
    "\n",
    "df = pd.read_csv('data/dataset.csv', index_col = 0, low_memory=False)\n",
    "mut_cols = [col for col in df.columns.to_list() if col.isnumeric()]\n",
    "\n",
    "\n",
    "lineages_of_interest = ['B.1.1.7','B.1.617.2','AY.12', 'AY.9', 'AY.4', 'B.1.1.318', 'AY.7']  # Lineages of interest\n",
    "df = df.loc[df['lineage'].isin(lineages_of_interest)].copy()\n",
    "\n",
    "lineages = df.loc[:,'lineage'].copy()\n",
    "# cols.unique()\n",
    "# cols[pd.isna(cols)] = 'unlabeled'"
   ]
  },
  {
   "cell_type": "code",
   "execution_count": null,
   "id": "a1d0cf32",
   "metadata": {
    "tags": []
   },
   "outputs": [
    {
     "name": "stdout",
     "output_type": "stream",
     "text": [
      "Based on 1\n",
      "Samples length = 2787\n",
      "Features length = 29903\n",
      "Estimated number of clusters 34\n",
      "Estimated number of noise 2\n",
      "Based on 2\n",
      "Samples length = 2787\n",
      "Features length = 29903\n",
      "Estimated number of clusters 8\n",
      "Estimated number of noise 0\n"
     ]
    },
    {
     "data": {
      "text/plain": [
       "<Figure size 432x288 with 0 Axes>"
      ]
     },
     "metadata": {},
     "output_type": "display_data"
    }
   ],
   "source": [
    "for bo in based_on:\n",
    "    print('Based on {}'.format(bo))\n",
    "    X = prepare_for_clustering(df, mut_cols, based_on = bo)\n",
    "\n",
    "    X_transformed = TSNE(n_components=2,\\\n",
    "                      init='random', n_jobs=-1).fit_transform(X)\n",
    "    X_transformed.shape\n",
    "\n",
    "    # kmeans = KMeans(n_clusters=20, random_state=0).fit(X_transformed)\n",
    "    # kmeans.labels_\n",
    "\n",
    "    dbscan = DBSCAN(eps = 5, n_jobs = -1).fit(X_transformed)\n",
    "    dbscan.labels_\n",
    "    df['cluster_' + str(bo)] = dbscan.labels_\n",
    "    n_clusters_ = len(set(dbscan.labels_)) - (1 if -1 in dbscan.labels_ else 0)\n",
    "    n_noise_ = list(dbscan.labels_).count(-1)\n",
    "    print('Estimated number of clusters', n_clusters_)\n",
    "    print('Estimated number of noise', n_noise_)\n",
    "\n",
    "\n",
    "    colors = [str(k) for k in dbscan.labels_.tolist()]\n",
    "    centroids = np.zeros((len(set(dbscan.labels_)), 2))\n",
    "    for i, label in enumerate(np.unique(dbscan.labels_)):\n",
    "        msk = dbscan.labels_ == label\n",
    "        points = [X_transformed[j,:] for j, value in enumerate(msk) if value]\n",
    "        centroids[i] = np.mean(points, axis=0)\n",
    "\n",
    "\n",
    "\n",
    "\n",
    "    palette = sns.color_palette(\"Paired\") + sns.color_palette(\"Set3\", 12)\n",
    "    g = sns.scatterplot(x = X_transformed[:,0], y = X_transformed[:,1], hue = colors, style=lineages)\n",
    "    g.scatter(x = centroids[:,0], y=centroids[:,1], color='black', marker='+', s=16, linewidths=0.7)\n",
    "    g.set_title('TSNE->DBSCAN on the bin matrix ' + str(bo) + 's')\n",
    "    plt.legend(bbox_to_anchor=(1,1), loc=\"upper left\")\n",
    "    plt.savefig('TSNE->DBSCAN on the bin matrix ' + str(bo) + 's_final.pdf', format='pdf', bbox_inches='tight')\n",
    "    plt.clf()"
   ]
  },
  {
   "cell_type": "code",
   "execution_count": 117,
   "id": "7a130cb3-8089-4bab-b27e-9525c3771768",
   "metadata": {
    "tags": []
   },
   "outputs": [
    {
     "name": "stdout",
     "output_type": "stream",
     "text": [
      "Based on 1\n",
      "Lineage B.1.1.7 is now being processed...\n",
      "Lineage B.1.617.2 is now being processed...\n",
      "Lineage AY.12 is now being processed...\n",
      "Lineage AY.9 is now being processed...\n",
      "Lineage AY.4 is now being processed...\n",
      "Lineage B.1.1.318 is now being processed...\n",
      "Lineage AY.7 is now being processed...\n",
      "Based on 2\n",
      "Lineage B.1.1.7 is now being processed...\n",
      "Lineage B.1.617.2 is now being processed...\n",
      "Lineage AY.12 is now being processed...\n",
      "Lineage AY.9 is now being processed...\n",
      "Lineage AY.4 is now being processed...\n",
      "Lineage B.1.1.318 is now being processed...\n",
      "Lineage AY.7 is now being processed...\n",
      "CPU times: user 14min 38s, sys: 15.9 s, total: 14min 54s\n",
      "Wall time: 14min 36s\n"
     ]
    }
   ],
   "source": [
    "%%time\n",
    "counter = count_snps(df, lineages_of_interest, based_on)\n",
    "counter.occurences_of_mutations()"
   ]
  },
  {
   "cell_type": "markdown",
   "id": "2951203b-3dc0-4698-a878-bcc38bbc6e5d",
   "metadata": {},
   "source": [
    "### Calculate nodes dataframe old method(one lineage), new method(multiple lineages)"
   ]
  },
  {
   "cell_type": "code",
   "execution_count": null,
   "id": "8ece7c01-e221-4217-9678-9f2e079e3c8f",
   "metadata": {},
   "outputs": [],
   "source": [
    "# %%time\n",
    "# # ------------- old method -------------\n",
    "# lineage = 'B.1.1.7'\n",
    "# nodes = counter.clusters_intersection()\n",
    "# # nodes = nodes.loc[(nodes['cluster_1'] == 4) & (nodes['cluster_2'] == 0)].copy()\n",
    "# nodes['samples'] = nodes.apply(lambda x: x['samples'][lineage] if lineage in x['samples'] else np.nan, axis = 1)\n",
    "# nodes.dropna(how = 'any', inplace = True)\n",
    "\n",
    "# for bo in based_on:\n",
    "#     bo = str(bo)\n",
    "#     pos_columns = [\"{lineage}_C{cluster}_pos_{bo}\".format(lineage = lineage, cluster = k, bo = bo) for k in nodes['cluster_' + bo].tolist()]\n",
    "#     count_columns = [\"{lineage}_C{cluster}_counts_{bo}\".format(lineage = lineage, cluster = k, bo = bo) for k in nodes['cluster_' + bo].tolist()]\n",
    "#     nodes['based_on_' + bo + '_pos'] = remove_nan_from_list_of_lists( \\\n",
    "#                                             counter.counts.loc[:, pos_columns].values.T.tolist())\n",
    "#     nodes['based_on_' + bo + '_counts'] = remove_nan_from_list_of_lists( \\\n",
    "#                                             counter.counts.loc[:, count_columns].values.T.tolist())\n",
    "#     nodes['snps_on_' + bo] =  nodes.apply(lambda x: [counter.get_snps_from_lineages_clusters_position(x['samples'], \\\n",
    "#                                                  region = 'NC_045512.2', \\\n",
    "#                                                  position = int(k)) for k in x['based_on_' + bo + '_pos']], axis = 1)\n",
    "# nodes\n",
    "\n",
    "# pickle.dump(nodes, open(\"data/nodes\", \"wb\"))\n",
    "# # nodes = pickle.load(open(\"data/nodes\", \"rb\"))"
   ]
  },
  {
   "cell_type": "code",
   "execution_count": null,
   "id": "994828ca-d91f-40c8-8732-57f56328b9c1",
   "metadata": {},
   "outputs": [],
   "source": [
    "# %%time\n",
    "# # ------------- new method for all lineages -------------\n",
    "\n",
    "# nodes = counter.clusters_intersection()\n",
    "\n",
    "# # nodes.dropna(how = 'any', inplace = True)\n",
    "\n",
    "# for bo in based_on:\n",
    "#     bo = str(bo)\n",
    "#     column_pos = []\n",
    "#     column_counts = []\n",
    "#     column_snps = []\n",
    "#     for i in nodes.index:\n",
    "#         d_pos = {}\n",
    "#         d_counts = {}\n",
    "#         d_snps = {}\n",
    "#         for lineage in nodes.loc[i, 'samples'].keys():\n",
    "#             pos_col = \"{lineage}_C{cluster}_pos_{bo}\".format(lineage = lineage, cluster = nodes.loc[i, 'cluster_' + bo], bo = bo)\n",
    "#             count_col = \"{lineage}_C{cluster}_counts_{bo}\".format(lineage = lineage, cluster = nodes.loc[i, 'cluster_' + bo], bo = bo)\n",
    "\n",
    "            \n",
    "#             d_pos[lineage] = remove_nan_from_list( \\\n",
    "#                                     counter.counts.loc[:, pos_col].values.tolist())\n",
    "#             d_counts[lineage] = remove_nan_from_list( \\\n",
    "#                                     counter.counts.loc[:, count_col].values.tolist())\n",
    "#             d_snps[lineage] = [counter.get_snps_from_lineages_clusters_position( \\\n",
    "#                                         nodes.loc[i, 'samples'][lineage], \\\n",
    "#                                         region = 'NC_045512.2', \\\n",
    "#                                         position = int(k)) for k in d_pos[lineage]]\n",
    "            \n",
    "#         column_pos.append(d_pos)\n",
    "#         column_counts.append(d_counts)\n",
    "#         column_snps.append(d_snps)\n",
    "#         print(i, ' done!')\n",
    "\n",
    "#     nodes['based_on_' + bo + '_pos'] = column_pos\n",
    "#     nodes['based_on_' + bo + '_counts'] = column_counts\n",
    "#     nodes['snps_on_' + bo] = column_snps\n",
    "\n",
    "# pickle.dump(nodes, open(\"data/nodes_all\", \"wb\"))\n",
    "nodes = pickle.load(open(\"data/nodes_all\", \"rb\"))\n",
    "nodes"
   ]
  },
  {
   "cell_type": "code",
   "execution_count": 149,
   "id": "5b384a30-37a4-4201-b159-170b2700b26a",
   "metadata": {
    "scrolled": true,
    "tags": []
   },
   "outputs": [
    {
     "name": "stderr",
     "output_type": "stream",
     "text": [
      "[Parallel(n_jobs=-1)]: Using backend LokyBackend with 16 concurrent workers.\n",
      "[Parallel(n_jobs=-1)]: Done   1 tasks      | elapsed:  6.7min\n",
      "[Parallel(n_jobs=-1)]: Done   2 tasks      | elapsed:  8.1min\n",
      "[Parallel(n_jobs=-1)]: Done   3 tasks      | elapsed:  9.5min\n",
      "[Parallel(n_jobs=-1)]: Done   4 tasks      | elapsed: 10.8min\n",
      "[Parallel(n_jobs=-1)]: Done   5 tasks      | elapsed: 10.9min\n",
      "[Parallel(n_jobs=-1)]: Done   6 tasks      | elapsed: 10.9min\n",
      "[Parallel(n_jobs=-1)]: Done   7 tasks      | elapsed: 14.6min\n",
      "[Parallel(n_jobs=-1)]: Done   8 tasks      | elapsed: 15.0min\n",
      "[Parallel(n_jobs=-1)]: Done   9 tasks      | elapsed: 18.6min\n",
      "[Parallel(n_jobs=-1)]: Done  10 tasks      | elapsed: 21.0min\n",
      "[Parallel(n_jobs=-1)]: Done  11 tasks      | elapsed: 25.7min\n",
      "[Parallel(n_jobs=-1)]: Done  12 tasks      | elapsed: 26.2min\n",
      "[Parallel(n_jobs=-1)]: Done  13 tasks      | elapsed: 26.3min\n",
      "[Parallel(n_jobs=-1)]: Done  14 tasks      | elapsed: 26.7min\n",
      "[Parallel(n_jobs=-1)]: Done  15 tasks      | elapsed: 27.0min\n",
      "[Parallel(n_jobs=-1)]: Done  16 tasks      | elapsed: 28.2min\n",
      "[Parallel(n_jobs=-1)]: Done  17 tasks      | elapsed: 30.8min\n",
      "[Parallel(n_jobs=-1)]: Done  18 tasks      | elapsed: 34.0min\n",
      "[Parallel(n_jobs=-1)]: Done  19 tasks      | elapsed: 35.6min\n",
      "[Parallel(n_jobs=-1)]: Done  20 tasks      | elapsed: 36.2min\n",
      "[Parallel(n_jobs=-1)]: Done  21 tasks      | elapsed: 39.2min\n",
      "[Parallel(n_jobs=-1)]: Done  22 tasks      | elapsed: 40.7min\n",
      "[Parallel(n_jobs=-1)]: Done  23 tasks      | elapsed: 42.2min\n",
      "[Parallel(n_jobs=-1)]: Done  24 tasks      | elapsed: 46.5min\n",
      "[Parallel(n_jobs=-1)]: Done  25 tasks      | elapsed: 46.7min\n",
      "[Parallel(n_jobs=-1)]: Done  26 tasks      | elapsed: 51.4min\n",
      "[Parallel(n_jobs=-1)]: Done  27 tasks      | elapsed: 53.9min\n",
      "[Parallel(n_jobs=-1)]: Done  28 tasks      | elapsed: 54.9min\n",
      "[Parallel(n_jobs=-1)]: Done  34 out of  59 | elapsed: 68.8min remaining: 50.6min\n",
      "[Parallel(n_jobs=-1)]: Done  40 out of  59 | elapsed: 95.3min remaining: 45.2min\n",
      "[Parallel(n_jobs=-1)]: Done  46 out of  59 | elapsed: 105.0min remaining: 29.7min\n",
      "[Parallel(n_jobs=-1)]: Done  52 out of  59 | elapsed: 117.6min remaining: 15.8min\n"
     ]
    },
    {
     "name": "stdout",
     "output_type": "stream",
     "text": [
      "Insertion\n",
      "Insertion\n",
      "Insertion\n",
      "Insertion\n"
     ]
    },
    {
     "name": "stderr",
     "output_type": "stream",
     "text": [
      "[Parallel(n_jobs=-1)]: Done  59 out of  59 | elapsed: 165.6min finished\n",
      "[Parallel(n_jobs=-1)]: Using backend LokyBackend with 16 concurrent workers.\n",
      "[Parallel(n_jobs=-1)]: Done   1 tasks      | elapsed:  1.8min\n",
      "[Parallel(n_jobs=-1)]: Done   2 tasks      | elapsed:  2.9min\n",
      "[Parallel(n_jobs=-1)]: Done   3 tasks      | elapsed:  3.5min\n",
      "[Parallel(n_jobs=-1)]: Done   4 tasks      | elapsed:  3.8min\n",
      "[Parallel(n_jobs=-1)]: Done   5 tasks      | elapsed:  3.8min\n",
      "[Parallel(n_jobs=-1)]: Done   6 tasks      | elapsed:  3.9min\n",
      "[Parallel(n_jobs=-1)]: Done   7 tasks      | elapsed:  3.9min\n",
      "[Parallel(n_jobs=-1)]: Done   8 tasks      | elapsed:  4.0min\n",
      "[Parallel(n_jobs=-1)]: Done   9 tasks      | elapsed:  4.2min\n",
      "[Parallel(n_jobs=-1)]: Done  10 tasks      | elapsed:  4.3min\n",
      "[Parallel(n_jobs=-1)]: Done  11 tasks      | elapsed:  4.4min\n",
      "[Parallel(n_jobs=-1)]: Done  12 tasks      | elapsed:  4.5min\n",
      "[Parallel(n_jobs=-1)]: Done  13 tasks      | elapsed:  4.8min\n",
      "[Parallel(n_jobs=-1)]: Done  14 tasks      | elapsed:  4.9min\n",
      "[Parallel(n_jobs=-1)]: Done  15 tasks      | elapsed:  6.4min\n",
      "[Parallel(n_jobs=-1)]: Done  16 tasks      | elapsed:  6.4min\n",
      "[Parallel(n_jobs=-1)]: Done  17 tasks      | elapsed:  6.5min\n",
      "[Parallel(n_jobs=-1)]: Done  18 tasks      | elapsed:  7.2min\n",
      "[Parallel(n_jobs=-1)]: Done  19 tasks      | elapsed:  7.6min\n",
      "[Parallel(n_jobs=-1)]: Done  20 tasks      | elapsed:  7.9min\n",
      "[Parallel(n_jobs=-1)]: Done  21 tasks      | elapsed:  8.0min\n",
      "[Parallel(n_jobs=-1)]: Done  22 tasks      | elapsed:  8.1min\n",
      "[Parallel(n_jobs=-1)]: Done  23 tasks      | elapsed:  8.3min\n",
      "[Parallel(n_jobs=-1)]: Done  24 tasks      | elapsed:  8.4min\n",
      "[Parallel(n_jobs=-1)]: Done  25 tasks      | elapsed:  8.5min\n",
      "[Parallel(n_jobs=-1)]: Done  26 tasks      | elapsed:  8.6min\n",
      "[Parallel(n_jobs=-1)]: Done  27 tasks      | elapsed:  8.7min\n",
      "[Parallel(n_jobs=-1)]: Done  28 tasks      | elapsed:  8.8min\n",
      "[Parallel(n_jobs=-1)]: Done  34 out of  59 | elapsed: 11.5min remaining:  8.5min\n",
      "[Parallel(n_jobs=-1)]: Done  40 out of  59 | elapsed: 13.3min remaining:  6.3min\n",
      "[Parallel(n_jobs=-1)]: Done  46 out of  59 | elapsed: 15.5min remaining:  4.4min\n",
      "[Parallel(n_jobs=-1)]: Done  52 out of  59 | elapsed: 16.6min remaining:  2.2min\n"
     ]
    },
    {
     "name": "stdout",
     "output_type": "stream",
     "text": [
      "CPU times: user 2.92 s, sys: 1.21 s, total: 4.13 s\n",
      "Wall time: 3h 3min 29s\n"
     ]
    },
    {
     "name": "stderr",
     "output_type": "stream",
     "text": [
      "[Parallel(n_jobs=-1)]: Done  59 out of  59 | elapsed: 17.9min finished\n"
     ]
    }
   ],
   "source": [
    "%%time\n",
    "counter.set_path(\"data/clinical_variant_files-indices\")\n",
    "# # ------------- new method for all lineages in parallel-------------\n",
    "def process(i):\n",
    "    d_pos = {}\n",
    "    d_counts = {}\n",
    "    d_snps = {}\n",
    "    for lineage in nodes.loc[i, 'samples'].keys():\n",
    "        pos_col = \"{lineage}_C{cluster}_pos_{bo}\".format(lineage = lineage, cluster = nodes.loc[i, 'cluster_' + bo], bo = bo)\n",
    "        count_col = \"{lineage}_C{cluster}_counts_{bo}\".format(lineage = lineage, cluster = nodes.loc[i, 'cluster_' + bo], bo = bo)\n",
    "\n",
    "\n",
    "        d_pos[lineage] = remove_nan_from_list( \\\n",
    "                                counter.counts.loc[:, pos_col].values.tolist())\n",
    "        d_counts[lineage] = remove_nan_from_list( \\\n",
    "                                counter.counts.loc[:, count_col].values.tolist())\n",
    "        d_snps[lineage] = [counter.get_snps_from_lineages_clusters_position( \\\n",
    "                                    nodes.loc[i, 'samples'][lineage], \\\n",
    "                                    region = 'NC_045512.2', \\\n",
    "                                    position = int(k)) for k in d_pos[lineage]]\n",
    "    return (d_pos, d_counts, d_snps)\n",
    "\n",
    "\n",
    "nodes = counter.clusters_intersection()\n",
    "# nodes.dropna(how = 'any', inplace = True)\n",
    "for bo in based_on:\n",
    "    bo = str(bo)\n",
    "\n",
    "    results = Parallel(n_jobs=-1, verbose = 11, backend = 'loky')(delayed(process)(i) for i in nodes.index)\n",
    "    column_pos, column_counts, column_snps = zip(*results)\n",
    "\n",
    "    nodes['based_on_' + bo + '_pos'] = column_pos\n",
    "    nodes['based_on_' + bo + '_counts'] = column_counts\n",
    "    nodes['snps_on_' + bo] = column_snps\n",
    "\n",
    "# pickle.dump(nodes, open(data_folder / \"nodes_all_test1\", \"wb\"))"
   ]
  },
  {
   "cell_type": "code",
   "execution_count": null,
   "id": "284b6bfb-d660-4ccf-8b48-9ea01db7fbfc",
   "metadata": {
    "tags": []
   },
   "outputs": [],
   "source": [
    "for i in nodes.index:\n",
    "    counts = {}\n",
    "    samples_dict = nodes.loc[i, 'samples']\n",
    "    for key, value in samples_dict.items():\n",
    "        increase_value_of_dict_by_value_new(counts, key, len(value))\n",
    "    # Pie chart, where the slices will be ordered and plotted counter-clockwise:\n",
    "    (labels, sizes) = zip(*counts.items())\n",
    "    #     labels = 'Frogs', 'Hogs', 'Dogs', 'Logs'\n",
    "    #     sizes = [15, 30, 45, 10]\n",
    "    #     explode = (0, 0.1, 0, 0)  # only \"explode\" the 2nd slice (i.e. 'Hogs')\n",
    "\n",
    "    fig1, ax1 = plt.subplots()\n",
    "    ax1.axis('tight')\n",
    "    ax1.axis('off')\n",
    "#     fig1.set_size_inches(10, 10)\n",
    "    ax1.pie(sizes, labels=labels, autopct='%1.1f%%',\n",
    "            shadow=False, startangle=90, labeldistance = None, rotatelabels = True,\n",
    "               wedgeprops={\"edgecolor\":\"0\",'linewidth': 0})\n",
    "    ax1.axis('equal')  # Equal aspect ratio ensures that pie is drawn as a circle.\n",
    "\n",
    "    plt.savefig('data/circular_images/{}.png'.format(i), transparent=True, bbox_inches='tight', pad_inches = 0)\n",
    "    plt.clf()\n",
    "    plt.close()\n",
    "#     break"
   ]
  },
  {
   "cell_type": "markdown",
   "id": "fbe894aa-355a-42d4-b2e0-da6ee0399c77",
   "metadata": {},
   "source": [
    "### Calculate fully connected graph edges old method(one lineage), new method(multiple lineages)"
   ]
  },
  {
   "cell_type": "code",
   "execution_count": null,
   "id": "b04bf6b0-35aa-4745-a531-a7c0a719b4ea",
   "metadata": {
    "tags": []
   },
   "outputs": [],
   "source": [
    "# # ------------- old ---------------\n",
    "# threshold = 1\n",
    "# edges = []\n",
    "# j_loop_indecies = nodes.index.tolist()\n",
    "# # test = []\n",
    "# for i in nodes.index:\n",
    "#     j_loop_indecies.remove(i)\n",
    "\n",
    "#     pos_i_dict = list_to_index_val_dict(nodes.loc[i, 'based_on_1_pos'] + nodes.loc[i, 'based_on_2_pos'])\n",
    "#     counts_i = nodes.loc[i, 'based_on_1_counts'] + nodes.loc[i, 'based_on_2_counts']\n",
    "# #     print(pos_i_dict)\n",
    "#     for j in j_loop_indecies:\n",
    "#         pos_j_dict = list_to_index_val_dict(nodes.loc[j, 'based_on_1_pos'] + nodes.loc[j, 'based_on_2_pos'])\n",
    "#         counts_j = nodes.loc[j, 'based_on_1_counts'] + nodes.loc[j, 'based_on_2_counts']\n",
    "# #         print(pos_j_dict)\n",
    "#         d = {}\n",
    "#         intersection = list(set(pos_i_dict) & set(pos_j_dict))\n",
    "#         for inter in intersection:\n",
    "# #             test.append((pos_i_dict[inter], pos_j_dict[inter]))\n",
    "# #             d[inter] = ((pos_i_dict[inter], get_list_items_from_idx_list(counts_i, pos_i_dict[inter])), \n",
    "# #                         (pos_j_dict[inter], get_list_items_from_idx_list(counts_j, pos_j_dict[inter])))\n",
    "#             d[str(int(inter))] = min(get_list_items_from_idx_list(counts_i, pos_i_dict[inter]) + \n",
    "#                            get_list_items_from_idx_list(counts_j, pos_j_dict[inter]))\n",
    "        \n",
    "#         keys_to_be_deleted = []\n",
    "#         for key, value in d.items():\n",
    "#             if value < threshold:\n",
    "#                 keys_to_be_deleted.append(key)\n",
    "#         for key in keys_to_be_deleted:\n",
    "#             d.pop(key)\n",
    "#         if not d:\n",
    "#             print('Empty')\n",
    "#         title = pd.DataFrame.from_dict(d, orient = 'index', columns = ['weights']) \\\n",
    "#                             .reset_index() \\\n",
    "#                             .rename(columns = {'index':'position'}) \\\n",
    "#                             .to_html(index = False)\n",
    "#         edges.append((i, j, {'weights' : d,\n",
    "#                              'weight' : len(d),\n",
    "#                              'value' : len(d),\n",
    "#                              'title' : title}))\n",
    "# #         print(d)\n",
    "# #         break\n",
    "# #     break"
   ]
  },
  {
   "cell_type": "code",
   "execution_count": null,
   "id": "117679fa-eaf7-411b-aec5-4d840858bfef",
   "metadata": {
    "tags": []
   },
   "outputs": [],
   "source": [
    "# ------------- new ---------------\n",
    "threshold = 1\n",
    "edges = []\n",
    "j_loop_indecies = nodes.index.tolist()\n",
    "# test = []\n",
    "for i in nodes.index:\n",
    "    j_loop_indecies.remove(i)\n",
    "\n",
    "    keys_i = nodes.loc[i, 'samples'].keys()\n",
    "    \n",
    "    for key_i in keys_i:\n",
    "        pos_i_dict = list_to_index_val_dict(nodes.loc[i, 'based_on_1_pos'][key_i] + nodes.loc[i, 'based_on_2_pos'][key_i])\n",
    "        counts_i = nodes.loc[i, 'based_on_1_counts'][key_i] + nodes.loc[i, 'based_on_2_counts'][key_i]\n",
    "    #     print(pos_i_dict)\n",
    "        for j in j_loop_indecies:\n",
    "            for key_j in nodes.loc[j, 'samples']:\n",
    "                pos_j_dict = list_to_index_val_dict(nodes.loc[j, 'based_on_1_pos'][key_j] + nodes.loc[j, 'based_on_2_pos'][key_j])\n",
    "                counts_j = nodes.loc[j, 'based_on_1_counts'][key_j] + nodes.loc[j, 'based_on_2_counts'][key_j]\n",
    "        #         print(pos_j_dict)\n",
    "                d = {}\n",
    "                intersection = list(set(pos_i_dict) & set(pos_j_dict))\n",
    "                for inter in intersection:\n",
    "                    d[str(int(inter))] = min(get_list_items_from_idx_list(counts_i, pos_i_dict[inter]) + \n",
    "                                             get_list_items_from_idx_list(counts_j, pos_j_dict[inter]))\n",
    "\n",
    "                keys_to_be_deleted = []\n",
    "                for key, value in d.items():\n",
    "                    if value < threshold:\n",
    "                        keys_to_be_deleted.append(key)\n",
    "                for key in keys_to_be_deleted:\n",
    "                    d.pop(key)\n",
    "                if d:\n",
    "                    (pos, min_weight) = zip(*d.items())\n",
    "                    length = len(pos)\n",
    "                    _from = [key_i] * length\n",
    "                    _to = [key_j] * length\n",
    "\n",
    "                    if len(pos) == len(min_weight) == len(_from) == len(_to):\n",
    "                        title = pd.DataFrame.from_records(zip(_from, _to, pos, min_weight), columns = ['from', 'to', 'position', 'weights']).to_html(index = False)\n",
    "                        edges.append((i, j, {'weights' : d,\n",
    "                                             'value' : len(d),\n",
    "                                             'title' : title}))\n",
    "                    else:\n",
    "                        print('Something went wrong with the lengths')\n",
    "        #         print(d)\n",
    "        #         break\n",
    "        #     break"
   ]
  },
  {
   "cell_type": "code",
   "execution_count": null,
   "id": "abcb876b-d4d4-4326-ae60-a82ec1828016",
   "metadata": {
    "tags": []
   },
   "outputs": [],
   "source": [
    "from scipy.stats import norm\n",
    "Q = 400\n",
    "cols = {\n",
    "    'from' : [],\n",
    "    'to' : [],\n",
    "    'weight' : []\n",
    "}\n",
    "for edge in edges:\n",
    "    cols['from'].append(edge[0])\n",
    "    cols['to'].append(edge[1])\n",
    "    cols['weight'].append(edge[2]['value'])\n",
    "    \n",
    "x = cols['weight']\n",
    "_std = statistics.pstdev(cols['weight'])\n",
    "_mean = statistics.mean(cols['weight'])\n",
    "_min = min(cols['weight'])\n",
    "_max = max(cols['weight'])\n",
    "# cols['weight'] = [((w - _min) / (_max - _min)) * Q  for w in cols['weight']]\n",
    "cols['weight'] = [(w - _mean) / _std for w in cols['weight']]\n",
    "cols['weight'] = norm.cdf(cols['weight'], loc=0, scale=0.04) * Q\n",
    "pd.DataFrame.from_dict(cols).to_csv('data/fully-connected-graph.csv', header = False, index = False, sep = \" \")\n",
    "x = cols['weight']\n",
    "plt.scatter(range(len(x)), x)\n",
    "\n",
    "plt.title('How to calculate and plot a cumulative distribution function ?')\n",
    "\n",
    "plt.show()"
   ]
  },
  {
   "cell_type": "code",
   "execution_count": null,
   "id": "fe40e654-cfc6-4dc8-a1c5-68d98b4ab4a4",
   "metadata": {
    "scrolled": true,
    "tags": []
   },
   "outputs": [],
   "source": [
    "!mcl data/fully-connected-graph.csv --abc -I 30 -scheme 7 -o data/fully-connected-graph-clusters.out\n",
    "# !mcxload -abc data/fully-connected-graph.csv --stream-mirror -write-tab data.tab -o data/fully-connected-graph.mci\n",
    "# !mcxi /data/fully-connected-graph.mci lm tp -1 mul add /data/check wm\n",
    "# !mcxdump -imx data/data/check -tab data.tab --dump-table"
   ]
  },
  {
   "cell_type": "markdown",
   "id": "baff1b94-a2ce-4c01-8293-903dac19d3d7",
   "metadata": {},
   "source": [
    "### Calculate arrow edges old method(one lineage), new method(multiple lineages)"
   ]
  },
  {
   "cell_type": "code",
   "execution_count": null,
   "id": "e7da8bc4-3392-47dd-9e12-a44c66cad852",
   "metadata": {
    "scrolled": true,
    "tags": []
   },
   "outputs": [],
   "source": [
    "# -----------------old-----------------\n",
    "# edges = []\n",
    "\n",
    "# for bo in based_on:\n",
    "#     fo = str(based_on[~based_on.index(bo)])\n",
    "#     bo = str(bo)\n",
    "#     for i in nodes.index:\n",
    "\n",
    "\n",
    "#         pos_i = nodes.loc[i, 'based_on_' + bo + '_pos']\n",
    "\n",
    "#         same_clusters = nodes.loc[(nodes['cluster_' + bo] == nodes.loc[i, 'cluster_' + bo]) & \\\n",
    "#                                   (nodes['cluster_' + fo] != nodes.loc[i, 'cluster_' + fo]), :]\n",
    "\n",
    "#         if not same_clusters.empty:\n",
    "#     #             print(same_clusters[['cluster_1', 'cluster_2']])\n",
    "#             for j in same_clusters.index:\n",
    "#                 d = {}\n",
    "#                 for l, snp_i in enumerate(nodes.loc[i, 'snps_on_'+ bo]):\n",
    "#                     if snp_i[0] == 0:\n",
    "#                         pos_j = same_clusters.loc[j, 'based_on_' + bo + '_pos']\n",
    "\n",
    "#                         for k, snp_j in enumerate(same_clusters.loc[j, 'snps_on_'+ bo]):\n",
    "#                             if (snp_j[0] > 0) and (pos_j[k] == pos_i[l]):\n",
    "#     #                                 print('on {bo} empty pos {pos_i} of clust {i} -> {pos_j} of clust {j}'.format(bo = bo, pos_i = pos_i[l], pos_j = pos_j[k], i = i, j = j))\n",
    "#                                 d[pos_i[l]] = (snp_i, snp_j)\n",
    "#             if d:\n",
    "#                 title = pd.DataFrame.from_dict(d, orient = 'index', columns = ['from', 'to']) \\\n",
    "#                             .reset_index() \\\n",
    "#                             .rename(columns = {'index':'position'}) \\\n",
    "#                             .to_html(index = False)\n",
    "#                 edges.append((i, j, {'color' : 'blue' if bo == \"1\" else 'red',\n",
    "#                                      'arrows' : 'to',\n",
    "#                                      'data' : d, \n",
    "#                                      'title' : title}))"
   ]
  },
  {
   "cell_type": "code",
   "execution_count": 154,
   "id": "a94ab9f6-32c4-4954-a267-cdb8e71af1b1",
   "metadata": {
    "tags": []
   },
   "outputs": [],
   "source": [
    "# -----------------new-----------------\n",
    "edges = []\n",
    "for bo in based_on:\n",
    "    fo = str(based_on[~based_on.index(bo)])\n",
    "    bo = str(bo)\n",
    "    for i in nodes.index:\n",
    "\n",
    "\n",
    "        pos_i = flatten_list_of_lists(list(nodes.loc[i, 'based_on_' + bo + '_pos'].values()))\n",
    "\n",
    "        same_clusters = nodes.loc[(nodes['cluster_' + bo] == nodes.loc[i, 'cluster_' + bo]) & \\\n",
    "                                  (nodes['cluster_' + fo] != nodes.loc[i, 'cluster_' + fo]), :]\n",
    "        # if bo == '2' and i == 10:\n",
    "        #     print(same_clusters)\n",
    "        if not same_clusters.empty:\n",
    "    #             print(same_clusters[['cluster_1', 'cluster_2']])\n",
    "            for j in same_clusters.index:\n",
    "                d = {}\n",
    "                i_snps = flatten_list_of_lists(list(nodes.loc[i, 'snps_on_'+ bo].values()))\n",
    "                for l, snp_i in enumerate(i_snps):\n",
    "                    if snp_i[0] == 0:\n",
    "                        pos_j = flatten_list_of_lists(list(same_clusters.loc[j, 'based_on_' + bo + '_pos'].values()))\n",
    "                        j_snps = flatten_list_of_lists(list(same_clusters.loc[j, 'snps_on_'+ bo].values()))\n",
    "                        \n",
    "                        for k, snp_j in enumerate(j_snps):\n",
    "                            if (snp_j[0] > 0) and (pos_j[k] == pos_i[l]):\n",
    "                                # if bo == '2' and i == 10 and j == 9:\n",
    "                                #     print('on {bo} empty pos {pos_i} of node {i} -> {pos_j} of node {j}'.format(bo = bo, pos_i = pos_i[l], pos_j = pos_j[k], i = i, j = j))\n",
    "                                d[pos_i[l]] = (snp_i, snp_j)\n",
    "            if d:\n",
    "                title = pd.DataFrame.from_dict(d, orient = 'index', columns = ['from', 'to']) \\\n",
    "                            .reset_index() \\\n",
    "                            .rename(columns = {'index':'position'}) \\\n",
    "                            .to_html(index = False)\n",
    "                edges.append((i, j, {'color' : 'blue' if bo == \"1\" else 'red',\n",
    "                                     'arrows' : 'to',\n",
    "                                     'data' : d, \n",
    "                                     'title' : title\n",
    "                                    }))"
   ]
  },
  {
   "cell_type": "markdown",
   "id": "c159218a-308f-4c71-a6e6-3f64cef1c18b",
   "metadata": {},
   "source": [
    "### Initiate graph old method(one lineage), new method(multiple lineages)"
   ]
  },
  {
   "cell_type": "code",
   "execution_count": null,
   "id": "ebb267d2-7c22-469f-8bb8-c5d979b08714",
   "metadata": {
    "tags": []
   },
   "outputs": [],
   "source": [
    "#-------------------old--------------\n",
    "# G = nx.DiGraph(name = lineage)\n",
    "# G.add_nodes_from(list(nodes.to_dict(orient='index').items()))\n",
    "\n",
    "\n",
    "# G.add_edges_from(edges)\n",
    "\n",
    "\n",
    "# net = Network(height='750px', width='100%', bgcolor='#222222', font_color='white', notebook = True, directed = True, heading = G.name)\n",
    "\n",
    "# net.from_nx(G)\n",
    "# for i in range(len(net.nodes)):\n",
    "#     pos = []\n",
    "#     snps = []\n",
    "#     index = []\n",
    "#     total = []\n",
    "#     f = []\n",
    "# #     total_len = 0\n",
    "#     for bo in based_on:\n",
    "#         bo = str(bo)\n",
    "        \n",
    "#         pos = extend_list(pos, [int(k) for k in net.nodes[i]['based_on_{}_pos'.format(bo)]])\n",
    "#         f = extend_list(f, [\"{:.2f}\".format(k) for k in net.nodes[i]['based_on_{}_counts'.format(bo)]])\n",
    "#         length = len(pos)\n",
    "#         index = extend_list(index, [bo] * length)\n",
    "        \n",
    "#         total = extend_list(total, [k[0] for k in net.nodes[i]['snps_on_{}'.format(bo)]])\n",
    "#         snps = extend_list(snps, [str(k[1]) for k in net.nodes[i]['snps_on_{}'.format(bo)]])\n",
    "    \n",
    "#     print(len(pos))\n",
    "#     print(len(index))\n",
    "#     net.nodes[i]['title'] = pd.DataFrame.from_records(zip(index, pos, f, total, snps), columns = ['Based_on','Position', 'f', 'Total', 'Snps']).to_html(index = False) \n",
    "# #         total_len = total_len + length \n",
    "# #     net.nodes[i]['label'] = total_len\n",
    "\n",
    "# # net.show('example3.html')"
   ]
  },
  {
   "cell_type": "code",
   "execution_count": null,
   "id": "f07295c6-d3a0-4260-958e-5f30fa5491b1",
   "metadata": {},
   "outputs": [],
   "source": [
    "_from = []\n",
    "_to = []\n",
    "_type = []\n",
    "\n",
    "for edge in edges:\n",
    "    _from.append(edge[0])\n",
    "    _to.append(edge[1])\n",
    "    _color.appednd(edge[2])\n",
    "    \n",
    "pd.DataFrame(_from, _to, _)"
   ]
  },
  {
   "cell_type": "code",
   "execution_count": 32,
   "id": "141debd4-ff23-40a5-89e4-ec87abaf9b13",
   "metadata": {
    "tags": []
   },
   "outputs": [],
   "source": [
    "arrow_edges = {}\n",
    "\n",
    "for edge in edges:\n",
    "    if edge[0] not in arrow_edges:\n",
    "        arrow_edges[edge[0]] = [(edge[1], edge[2]['color'])]\n",
    "    else:\n",
    "        if (edge[1], edge[2]['color']) not in arrow_edges[edge[0]]:\n",
    "            arrow_edges[edge[0]].append((edge[1], edge[2]['color']))\n",
    "\n",
    "pd.DataFrame.from_dict(arrow_edges, orient='index')"
   ]
  },
  {
   "cell_type": "code",
   "execution_count": 25,
   "id": "d6455aa0-9c56-4853-bcc1-8b1012272286",
   "metadata": {
    "tags": []
   },
   "outputs": [
    {
     "data": {
      "text/html": [
       "\n",
       "        <iframe\n",
       "            width=\"100%\"\n",
       "            height=\"750px\"\n",
       "            src=\"example7.html\"\n",
       "            frameborder=\"0\"\n",
       "            allowfullscreen\n",
       "        ></iframe>\n",
       "        "
      ],
      "text/plain": [
       "<IPython.lib.display.IFrame at 0x7f4dd73e7070>"
      ]
     },
     "execution_count": 25,
     "metadata": {},
     "output_type": "execute_result"
    }
   ],
   "source": [
    "#-------------------new--------------\n",
    "d = pd.read_csv('data/fully-connected-graph-clusters.out', sep='\\t', header = None).T.to_dict(orient='list')\n",
    "d = remove_nan_from_dict_of_lists(d)\n",
    "d = int_dict_of_lists(d)\n",
    "groups = {}\n",
    "for key, value in d.items():\n",
    "    for element in value:\n",
    "        groups[element] = key\n",
    "\n",
    "nodes['id'] = nodes.index\n",
    "        \n",
    "G = nx.DiGraph(name = lineages_of_interest)\n",
    "G.add_nodes_from(list(nodes.to_dict(orient='index').items()))\n",
    "\n",
    "\n",
    "G.add_edges_from(edges)\n",
    "\n",
    "net = Network(height='750px', width='100%', bgcolor='#222222', font_color='white', notebook = True, directed = True, heading = \" \".join(str(x) for x in G.name))\n",
    "net.set_options(json.dumps({\n",
    "    \"configure\": {\n",
    "        \"enabled\": False\n",
    "    },\n",
    "    \"nodes\":{\n",
    "        \"borderWidth\": 10,\n",
    "        \"borderWidthSelected\": 10,\n",
    "        \"size\": 400,\n",
    "        \"chosen\": True,\n",
    "        \"font\": {\n",
    "            \"size\": 11,\n",
    "        }\n",
    "    },\n",
    "    \"edges\": {\n",
    "        \"scaling\": {\n",
    "            \"min\": 0.1,\n",
    "            \"max\": 1,\n",
    "        },\n",
    "        \"selectionWidth\" : 0,\n",
    "        \"color\": {\n",
    "            \"inherit\": False\n",
    "        },\n",
    "        \"smooth\": {\n",
    "            \"enabled\": False,\n",
    "            \"type\": \"continuous\"\n",
    "        }\n",
    "    },\n",
    "    \"interaction\": {\n",
    "        \"dragNodes\": True,\n",
    "        \"hideEdgesOnDrag\": False,\n",
    "        \"hideNodesOnDrag\": False\n",
    "    },\n",
    "    \"physics\": {\n",
    "        \"enabled\": False,\n",
    "    },\n",
    "    \"layout\": {\n",
    "        \"randomSeed\": 100,\n",
    "    }\n",
    "}))\n",
    "\n",
    "net.from_nx(G)\n",
    "for i in range(len(net.nodes)):\n",
    "    pos = []\n",
    "    snps = []\n",
    "    index = []\n",
    "    total = []\n",
    "    lineage = []\n",
    "    f = []\n",
    "#     total_len = 0\n",
    "    for bo in based_on:\n",
    "        for lin in net.nodes[i]['based_on_{}_pos'.format(bo)].keys():\n",
    "            bo = str(bo)\n",
    "\n",
    "            pos = extend_list(pos, [int(k) for k in net.nodes[i]['based_on_{}_pos'.format(bo)][lin]])\n",
    "            f = extend_list(f, [\"{:.2f}\".format(k) for k in net.nodes[i]['based_on_{}_counts'.format(bo)][lin]])\n",
    "            \n",
    "            length = len(net.nodes[i]['based_on_{}_pos'.format(bo)][lin])\n",
    "            index = extend_list(index, [bo] * length)\n",
    "            lineage = extend_list(lineage, [lin] * length)\n",
    "\n",
    "\n",
    "            total = extend_list(total, [k[0] for k in net.nodes[i]['snps_on_{}'.format(bo)][lin]])\n",
    "            snps = extend_list(snps, [str(k[1]) for k in net.nodes[i]['snps_on_{}'.format(bo)][lin]])\n",
    "            \n",
    "    if len(index) == len(lineage) == len(pos) == len(f) == len(total) == len(snps):\n",
    "        net.nodes[i]['title'] = pd.DataFrame.from_records(zip(index, lineage, pos, f, total, snps), columns = ['Based_on', 'Lineage', 'Position', 'f', 'Total', 'Snps']).to_html(index = False) \n",
    "    #     total_len = total_len + length \n",
    "        net.nodes[i]['label'] = \" \".join(str(x) for x in list(set(lineage))) + '\\n' + str(net.nodes[i]['id'])\n",
    "        net.nodes[i]['group'] = groups[net.nodes[i]['id']]\n",
    "        net.nodes[i]['shape'] = \"circularImage\"\n",
    "        net.nodes[i]['image'] = \"data/circular_images/{}.png\".format(net.nodes[i]['id'])\n",
    "#         net.nodes[i]['color'] = 'black'\n",
    "    else:\n",
    "        print('Something went wrong with the lengths')\n",
    "\n",
    "net.show('example7.html')"
   ]
  },
  {
   "cell_type": "code",
   "execution_count": 26,
   "id": "835ceb7f-cc58-477a-aec2-1b063f027b33",
   "metadata": {
    "tags": []
   },
   "outputs": [],
   "source": [
    "centrality = nx.algorithms.centrality.degree_centrality(G)\n",
    "betweenness_centrality = nx.algorithms.centrality.betweenness_centrality(G)\n",
    "load_centrality =  nx.algorithms.centrality.load_centrality(G)\n",
    "\n",
    "list_of_nodes = list(G.nodes())\n",
    "\n",
    "paths = []\n",
    "for node in list_of_nodes:\n",
    "    temp = copy.deepcopy(list_of_nodes)\n",
    "    temp.pop(temp.index(node))\n",
    "    paths.extend(list(nx.algorithms.simple_paths.all_simple_paths(G, source = node, target = temp)))"
   ]
  },
  {
   "cell_type": "code",
   "execution_count": 28,
   "id": "534dddbe-7feb-40c3-bdfa-cbbbb2a9bce2",
   "metadata": {
    "scrolled": true,
    "tags": []
   },
   "outputs": [],
   "source": [
    "cluster_1 = []\n",
    "cluster_2 = []\n",
    "position = []\n",
    "f = []\n",
    "snps = []\n",
    "based = []\n",
    "node = []\n",
    "from_node = []\n",
    "to_node = []\n",
    "lineage = []\n",
    "mcl_group = []\n",
    "central = []\n",
    "bet_central = []\n",
    "l_central = []\n",
    "\n",
    "\n",
    "for bo in based_on:\n",
    "    for i in nodes.index:\n",
    "        line = nodes.loc[i, :]\n",
    "        for key, value in line[\"based_on_{}_pos\".format(bo)].items():\n",
    "            \n",
    "            position = extend_list(position, [int(k) for k in value])\n",
    "            f = extend_list(f, line[\"based_on_{}_counts\".format(bo)][key])\n",
    "            snps = extend_list(snps, line[\"snps_on_{}\".format(bo)][key])\n",
    "            \n",
    "            length = len(line[\"based_on_{}_pos\".format(bo)][key])\n",
    "            \n",
    "            lineage = extend_list(lineage, [key] * length)\n",
    "            based = extend_list(based, [bo] * length)\n",
    "            \n",
    "            node = extend_list(node, [i] * length)\n",
    "            mcl_group = extend_list(mcl_group, [groups[i]] * length)\n",
    "            central = extend_list(central, [centrality[i]] * length)\n",
    "            bet_central = extend_list(bet_central, [betweenness_centrality[i]] * length)\n",
    "            l_central = extend_list(l_central, [load_centrality[i]] * length)\n",
    "            \n",
    "            \n",
    "            cluster_1 = extend_list(cluster_1, [line['cluster_1']] * length)\n",
    "            cluster_2 = extend_list(cluster_2, [line['cluster_2']] * length)\n",
    "\n",
    "#         break\n",
    "#     break\n",
    "\n",
    "if check_if_lists_in_list_have_same_length([position, \\\n",
    "                                            f, \\\n",
    "                                            snps, \\\n",
    "                                            lineage, \\\n",
    "                                            based, \\\n",
    "                                            node, \\\n",
    "                                            mcl_group, \\\n",
    "                                            central, \\\n",
    "                                            bet_central, \\\n",
    "                                            l_central, \\\n",
    "                                            cluster_1, \\\n",
    "                                            cluster_2]):\n",
    "    result_long = pd.DataFrame.from_records(zip(position, f, snps, lineage, based, cluster_1, cluster_2, node, mcl_group, central, bet_central, l_central), \\\n",
    "                                            columns = ['position', 'f', 'snps', 'lineage', 'based_on', 'cluster_1', 'cluster_2',\\\n",
    "                                                       'node', 'mcl_group', 'central', 'bet_central', 'l_central'])\n",
    "result_long"
   ]
  },
  {
   "cell_type": "code",
   "execution_count": 106,
   "id": "ae3178ac-864e-478a-9b8f-6999797eb939",
   "metadata": {
    "tags": []
   },
   "outputs": [
    {
     "data": {
      "image/png": "[encoded data removed]",
      "text/plain": [
       "<Figure size 432x288 with 1 Axes>"
      ]
     },
     "metadata": {
      "needs_background": "light"
     },
     "output_type": "display_data"
    }
   ],
   "source": [
    "x = []\n",
    "y = []\n",
    "lin = []\n",
    "\n",
    "\n",
    "cmap = cm.get_cmap('Set1', 9)    # PiYG\n",
    "colors = []\n",
    "for i in range(cmap.N):\n",
    "    # rgb2hex accepts rgb or rgba\n",
    "    colors.append(matplotlib.colors.rgb2hex(cmap(i)))\n",
    "    \n",
    "cdict = {value : colors[i] for i,value in enumerate(lineages_of_interest)}\n",
    "\n",
    "for i in nodes.index:\n",
    "    for j, val in nodes.loc[i, 'samples'].items():\n",
    "        length = len(val)\n",
    "        lin = extend_list(lin, [j] * length)\n",
    "        x = extend_list(x, [i] * length)\n",
    "        y = extend_list(y, df.loc[val, 'collection date'].tolist())\n",
    "\n",
    "y = [np.nan if d == 'not provided' else d for d in y]\n",
    "dates = pd.DataFrame.from_records(zip(y, x, lin), columns = ['dates', 'nodes', 'lineage'])\n",
    "dates.dropna(how = 'any')\n",
    "dates['dates'] =  pd.to_datetime(dates['dates'])\n",
    "\n",
    "\n",
    "fig, ax = plt.subplots()\n",
    "for lineage in dates['lineage'].unique():\n",
    "    x = dates.loc[dates['lineage'] == lineage, 'nodes']\n",
    "    y = dates.loc[dates['lineage'] == lineage, 'dates']\n",
    "    \n",
    "    ax.scatter(x, y, c=cdict[lineage], label=lineage)\n",
    "\n",
    "ax.set_ylabel('Collection date')\n",
    "ax.set_xlabel('Nodes')\n",
    "ax.legend()\n",
    "ax.grid(True)\n",
    "\n",
    "plt.show()"
   ]
  },
  {
   "cell_type": "code",
   "execution_count": null,
   "id": "35c8c28f-2632-4b4f-b8b1-7273462481ae",
   "metadata": {
    "tags": []
   },
   "outputs": [],
   "source": [
    "for i in nodes.index:\n",
    "    for edge in edges:\n",
    "        if edge[0] == i or edge[0] == i:\n",
    "            print(edge[0], edge[1], edge[2]['color'])"
   ]
  },
  {
   "cell_type": "code",
   "execution_count": 6,
   "id": "6c91d93a-5672-4f8e-ab41-87b67b53cff1",
   "metadata": {
    "tags": []
   },
   "outputs": [],
   "source": [
    "names = []\n",
    "seqs = []\n",
    "lengths = []\n",
    "uniques = []\n",
    "for seq_record in SeqIO.parse(\"data/combined-MSA-keep_length_ep0.1.fasta\", \"fasta\"):\n",
    "    names.append(seq_record.id)\n",
    "    seqs.append(str(seq_record.seq))\n",
    "    uniques.append(list(set(str(seq_record.seq))))\n",
    "    lengths.append(len(seq_record))"
   ]
  },
  {
   "cell_type": "code",
   "execution_count": 14,
   "id": "9cb294c6-d071-43ce-b7a1-8e32c48218ef",
   "metadata": {
    "tags": []
   },
   "outputs": [],
   "source": [
    "nodes_of_interest = [23,42,32,14,15,3,16,25,24,2,4,5,33,38,35,61]\n",
    "# nodes_of_interest = [55,45,44]\n",
    "# nodes_of_interest = [37,58,56,62]\n",
    "\n",
    "# nodes_of_interest = [ 55,45,44, 37,58,56,62]\n",
    "\n",
    "\n",
    "permutations_of_nodes_of_interest = list(itertools.permutations(nodes_of_interest, 2))\n",
    "\n",
    "tmp = []\n",
    "for i in nodes.loc[nodes_of_interest, 'samples']:\n",
    "    tmp.append(list(i.values()))\n",
    "\n",
    "samples = list(set(flatten_list_of_lists(flatten_list_of_lists(tmp))))\n",
    "prefix_samples = add_prefix_to_list_of_strings(samples, 'New|1_')\n",
    "msa_indices = flatten_list_of_lists(search_elements_in_list(names, prefix_samples))\n",
    "\n",
    "sequences = get_list_items_from_idx_list(seqs, msa_indices)\n",
    "sequences_names = get_list_items_from_idx_list(names, msa_indices)\n",
    "\n",
    "record_list = []\n",
    "for (name, seq_string) in zip(sequences_names, sequences):\n",
    "    record = SeqRecord(Seq(seq_string), id=name, description=\"\")\n",
    "    record_list.append(record)\n",
    "\n",
    "SeqIO.write(record_list, \"data/example_msa.fasta\", \"fasta\")\n",
    "msa = msa_parser(\"data/example_msa.fasta\")"
   ]
  },
  {
   "cell_type": "code",
   "execution_count": 15,
   "id": "53426e06-3239-4ad2-9898-d7ba5b10ddd8",
   "metadata": {
    "tags": []
   },
   "outputs": [
    {
     "data": {
      "image/png": "[encoded data removed]",
      "text/plain": [
       "<Figure size 432x288 with 1 Axes>"
      ]
     },
     "metadata": {
      "needs_background": "light"
     },
     "output_type": "display_data"
    },
    {
     "data": {
      "application/vnd.jupyter.widget-view+json": {
       "model_id": "50256ff1fbc747adb5751342f32e53fa",
       "version_major": 2,
       "version_minor": 0
      },
      "text/plain": [
       "  0%|          | 0/200 [00:00<?, ?it/s]"
      ]
     },
     "metadata": {},
     "output_type": "display_data"
    }
   ],
   "source": [
    "msa.calculate_probabilities()\n",
    "indices_of_pos_with_length_of_probs_larger_than_1 = [idx for idx, value in enumerate(msa.probabilities) if len(value) > 1]\n",
    "\n",
    "# retrive edges mutations of the nodes of interest\n",
    "edges_of_interest = search_in_edges(edges, permutations_of_nodes_of_interest)\n",
    "edges_data = list(set([int(i) for i in flatten_list_of_lists([list(k[2]['data'].keys()) for k in edges_of_interest])]))\n",
    "\n",
    "msa.probabilities = get_list_items_from_idx_list(msa.probabilities, edges_data)\n",
    "### ara theloume mono tis theses poy de;ixnoyn ta arrows na ta psaxnoume sto msa kai na ypologizoume tis entropies giati\n",
    "### giati endiaferomaste mono gia ekeines tis theses pou aforoun tha katallhla zeygaria clusters kai OXi gia oles tis theseis\n",
    "### pou fainontai metalagmenes sto MSA metaksy twn samples of interest\n",
    "\n",
    "\n",
    "# ## sort the probabilities based on the positions (edge_data) in an asceding order\n",
    "# sorted_probabilities = [x for _, x in sorted(zip(edges_data, msa.probabilities), key=lambda pair: pair[0])]\n",
    "# sorted_edge_data = sorted(edges_data)\n",
    "\n",
    "# ([(ind,prob) for ind,prob in zip(sorted(edges_data), sorted_probabilities)])\n",
    "msa.calculate_entropies()\n",
    "\n",
    "## sort the entropies based on the positions (edge_data) in an asceding order\n",
    "sorted_entropies = [x for _, x in sorted(zip(edges_data, msa.entropies), key=lambda pair: pair[0])]\n",
    "sorted_edge_data = sorted(edges_data)\n",
    "sorted_edge_data_frequencies = {}\n",
    "\n",
    "for i in sorted_edge_data:\n",
    "    d = df.loc[samples, str(i)].value_counts(normalize = True).to_dict()\n",
    "    dd = {}\n",
    "    for key, value in d.items():\n",
    "        if key == 2:\n",
    "            dd['chr'] = value * 100\n",
    "        elif key == 1:\n",
    "            dd['non-chr'] = value * 100\n",
    "            \n",
    "    sorted_edge_data_frequencies[i] = dd\n",
    "\n",
    "plt.bar([str(k) for k in sorted_edge_data], sorted_entropies)\n",
    "plt.xticks(rotation=90, fontsize=6)\n",
    "plt.savefig('mutual_info-entropy/entropies-nodes_{}.pdf'.format('-'.join([str(k) for k in nodes_of_interest])))\n",
    "plt.show()\n",
    "\n",
    "msa.calculate_mutual_info(array = msa.transposed_array_of_sequences[sorted_edge_data, :])"
   ]
  },
  {
   "cell_type": "code",
   "execution_count": 16,
   "id": "0fc33eaf-5e2f-47f9-9044-755636177c74",
   "metadata": {
    "tags": []
   },
   "outputs": [
    {
     "data": {
      "image/png": "[encoded data removed]",
      "text/plain": [
       "<Figure size 432x288 with 2 Axes>"
      ]
     },
     "metadata": {
      "needs_background": "light"
     },
     "output_type": "display_data"
    }
   ],
   "source": [
    "fig, ax = plt.subplots()\n",
    "# ax.set_title(' | '.join([k.split('_')[1] for k in sequences_names]))\n",
    "\n",
    "im, cbar = heatmap(msa.mutual_info, sorted_edge_data, sorted_edge_data, ax=ax,\n",
    "                   cmap=\"YlGn\", cbarlabel=\"mutual info score\", interpolation='none')\n",
    "# texts = annotate_heatmap(im, valfmt=matplotlib.ticker.FuncFormatter(func), size=6)\n",
    "\n",
    "fig.tight_layout()\n",
    "plt.savefig('mutual_info-entropy/mutual_info-nodes_{}.pdf'.format('-'.join([str(k) for k in nodes_of_interest])))\n",
    "plt.show()"
   ]
  },
  {
   "cell_type": "code",
   "execution_count": 17,
   "id": "196d70e2-74b6-45fe-b318-b0efe78f9f0a",
   "metadata": {
    "tags": []
   },
   "outputs": [
    {
     "data": {
      "image/png": "[encoded data removed]",
      "text/plain": [
       "<Figure size 432x288 with 1 Axes>"
      ]
     },
     "metadata": {
      "needs_background": "light"
     },
     "output_type": "display_data"
    }
   ],
   "source": [
    "from sklearn.cluster import AgglomerativeClustering\n",
    "\n",
    "similarity = 1 - msa.mutual_info\n",
    "\n",
    "# setting distance_threshold=0 ensures we compute the full tree.\n",
    "model = AgglomerativeClustering(distance_threshold=0, n_clusters=None, affinity='precomputed', linkage='complete')\n",
    "\n",
    "model = model.fit(similarity)\n",
    "# plt.title(\"Hierarchical Clustering Dendrogram\")\n",
    "# plot the top three levels of the dendrogram\n",
    "plot_dendrogram(model, truncate_mode=\"level\", p=100)#, labels=sorted_edge_data)\n",
    "# plt.xlabel(\"Number of points in node (or index of point if no parenthesis).\")\n",
    "plt.savefig('mutual_info-entropy/h-clustering-nodes_{}.pdf'.format('-'.join([str(k) for k in nodes_of_interest])))\n",
    "plt.show()"
   ]
  },
  {
   "cell_type": "code",
   "execution_count": 18,
   "id": "d4331ae5-3248-4327-87d1-0cf18a805d54",
   "metadata": {},
   "outputs": [
    {
     "data": {
      "text/html": [
       "<div>\n",
       "<style scoped>\n",
       "    .dataframe tbody tr th:only-of-type {\n",
       "        vertical-align: middle;\n",
       "    }\n",
       "\n",
       "    .dataframe tbody tr th {\n",
       "        vertical-align: top;\n",
       "    }\n",
       "\n",
       "    .dataframe thead th {\n",
       "        text-align: right;\n",
       "    }\n",
       "</style>\n",
       "<table border=\"1\" class=\"dataframe\">\n",
       "  <thead>\n",
       "    <tr style=\"text-align: right;\">\n",
       "      <th></th>\n",
       "      <th>gene</th>\n",
       "      <th>gene_start</th>\n",
       "      <th>gene_end</th>\n",
       "      <th>gene_color</th>\n",
       "    </tr>\n",
       "  </thead>\n",
       "  <tbody>\n",
       "    <tr>\n",
       "      <th>10</th>\n",
       "      <td>ORF1a</td>\n",
       "      <td>266</td>\n",
       "      <td>13441</td>\n",
       "      <td>#BAD1E9</td>\n",
       "    </tr>\n",
       "    <tr>\n",
       "      <th>11</th>\n",
       "      <td>ORF1b</td>\n",
       "      <td>13442</td>\n",
       "      <td>21552</td>\n",
       "      <td>#E8CBB7</td>\n",
       "    </tr>\n",
       "    <tr>\n",
       "      <th>0</th>\n",
       "      <td>S</td>\n",
       "      <td>21563</td>\n",
       "      <td>25384</td>\n",
       "      <td>#7BC146</td>\n",
       "    </tr>\n",
       "    <tr>\n",
       "      <th>1</th>\n",
       "      <td>ORF3a</td>\n",
       "      <td>25393</td>\n",
       "      <td>26220</td>\n",
       "      <td>#43C3D9</td>\n",
       "    </tr>\n",
       "    <tr>\n",
       "      <th>2</th>\n",
       "      <td>E</td>\n",
       "      <td>26245</td>\n",
       "      <td>26472</td>\n",
       "      <td>#3678BE</td>\n",
       "    </tr>\n",
       "    <tr>\n",
       "      <th>3</th>\n",
       "      <td>M</td>\n",
       "      <td>26523</td>\n",
       "      <td>27191</td>\n",
       "      <td>#9AA5D1</td>\n",
       "    </tr>\n",
       "    <tr>\n",
       "      <th>4</th>\n",
       "      <td>ORF6</td>\n",
       "      <td>27202</td>\n",
       "      <td>27387</td>\n",
       "      <td>#6260AB</td>\n",
       "    </tr>\n",
       "    <tr>\n",
       "      <th>5</th>\n",
       "      <td>ORF7a</td>\n",
       "      <td>27394</td>\n",
       "      <td>27759</td>\n",
       "      <td>#A67CB8</td>\n",
       "    </tr>\n",
       "    <tr>\n",
       "      <th>6</th>\n",
       "      <td>ORF7b</td>\n",
       "      <td>27756</td>\n",
       "      <td>27887</td>\n",
       "      <td>#ED5588</td>\n",
       "    </tr>\n",
       "    <tr>\n",
       "      <th>7</th>\n",
       "      <td>ORF8</td>\n",
       "      <td>27894</td>\n",
       "      <td>28259</td>\n",
       "      <td>#FDD540</td>\n",
       "    </tr>\n",
       "    <tr>\n",
       "      <th>8</th>\n",
       "      <td>N</td>\n",
       "      <td>28274</td>\n",
       "      <td>29533</td>\n",
       "      <td>#F4842F</td>\n",
       "    </tr>\n",
       "    <tr>\n",
       "      <th>9</th>\n",
       "      <td>ORF10</td>\n",
       "      <td>29558</td>\n",
       "      <td>29674</td>\n",
       "      <td>#A8CF58</td>\n",
       "    </tr>\n",
       "  </tbody>\n",
       "</table>\n",
       "</div>"
      ],
      "text/plain": [
       "     gene  gene_start  gene_end gene_color\n",
       "10  ORF1a         266     13441    #BAD1E9\n",
       "11  ORF1b       13442     21552    #E8CBB7\n",
       "0       S       21563     25384    #7BC146\n",
       "1   ORF3a       25393     26220    #43C3D9\n",
       "2       E       26245     26472    #3678BE\n",
       "3       M       26523     27191    #9AA5D1\n",
       "4    ORF6       27202     27387    #6260AB\n",
       "5   ORF7a       27394     27759    #A67CB8\n",
       "6   ORF7b       27756     27887    #ED5588\n",
       "7    ORF8       27894     28259    #FDD540\n",
       "8       N       28274     29533    #F4842F\n",
       "9   ORF10       29558     29674    #A8CF58"
      ]
     },
     "execution_count": 18,
     "metadata": {},
     "output_type": "execute_result"
    }
   ],
   "source": [
    "genes_coordinates = pd.read_csv('data/ref/NC_045512.2_simplified.csv').sort_values(by='gene_start')\n",
    "\n",
    "\n",
    "# gene_colors = [(1, 100, 50),\n",
    "#                (38, 100, 50),\n",
    "#                (58, 100, 50),\n",
    "#                (85, 100, 50),\n",
    "#                (143, 100, 50),\n",
    "#                (177, 100, 50),\n",
    "#                (202, 100, 50),\n",
    "#                (236, 100, 50),\n",
    "#                (263, 100, 50),\n",
    "#                (285, 100, 50),\n",
    "#                (316, 100, 50),\n",
    "#                (1, 100, 70)]\n",
    "\n",
    "gene_colors = [\n",
    "                '#BAD1E9',\n",
    "                '#E8CBB7',\n",
    "                '#7BC146',\n",
    "                '#43C3D9',\n",
    "                '#3678BE',\n",
    "                '#9AA5D1',\n",
    "                '#6260AB',\n",
    "                '#A67CB8',\n",
    "                '#ED5588',\n",
    "                '#FDD540',\n",
    "                '#F4842F',\n",
    "                '#A8CF58',\n",
    "]\n",
    "\n",
    "# gene_faded_color = [(gene_color[0], 30, gene_color[2]) for gene_color in gene_colors]\n",
    "\n",
    "genes_coordinates['gene_color'] = gene_colors\n",
    "# genes_coordinates['gene_color_faded'] = gene_faded_color\n",
    "genes_coordinates"
   ]
  },
  {
   "cell_type": "code",
   "execution_count": 157,
   "id": "e9057853-ce52-48a6-a671-dfe7598a08e3",
   "metadata": {
    "tags": []
   },
   "outputs": [],
   "source": [
    "wierd_chars = ['†', 'ψ', '⛥', '✠', 'ɸ', '♣', '▲']\n",
    "lineages_to_chars = {k : wierd_chars[i] for i, k in enumerate(lineages_of_interest)}\n",
    "sorted_edge_metadata = []\n",
    "\n",
    "for i in sorted_edge_data:   \n",
    "    lins = df.loc[df[str(i)] == 2, 'lineage'].unique().tolist()\n",
    "    if lins:\n",
    "        tmp = []\n",
    "        for j in lins:\n",
    "            tmp.append(lineages_to_chars[j])\n",
    "        sorted_edge_metadata.append(\" \".join(tmp))\n",
    "    else:\n",
    "        sorted_edge_metadata.append(\"\")\n",
    "\n",
    "with open(\"../tree-of-life/files/life.json\", \"w\") as write_file:\n",
    "    labels = []\n",
    "    for i, k in enumerate(sorted_edge_data):\n",
    "        chr_f = sorted_edge_data_frequencies[k].get('chr', '')\n",
    "        non_chr_f = sorted_edge_data_frequencies[k].get('non-chr', '')\n",
    "        \n",
    "        pos_color = coordinate_belongs_to_gene_color(k, genes_coordinates, fade = False)\n",
    "        non_color = 'blue'\n",
    "        if non_chr_f != '' and chr_f == '' and non_chr_f <= 5:\n",
    "            pos_color = '#BABABA'\n",
    "            non_color = '#BFC7FF'\n",
    "        \n",
    "        labels.append(\n",
    "            {'pos' : {'value' : str(k), 'color' : pos_color},\n",
    "             'symbols' : {'value' : sorted_edge_metadata[i], 'color' : 'green'},\n",
    "             'freqs' : {'chr' : {'value' : check_if_frequency_is_empty(chr_f), 'color' : 'red'},\n",
    "                        'non_chr' : {'value' : check_if_frequency_is_empty(non_chr_f), 'color' : non_color}\n",
    "                       }\n",
    "            }\n",
    "        )\n",
    "    json.dump(model_tree_to_nested_dics(model, labels), write_file, indent = 4)"
   ]
  },
  {
   "cell_type": "code",
   "execution_count": 288,
   "id": "aeb14af9-0761-42d4-b277-2d314635c44f",
   "metadata": {
    "execution": {
     "iopub.execute_input": "2022-01-28T15:44:15.027024Z",
     "iopub.status.busy": "2022-01-28T15:44:15.026541Z",
     "iopub.status.idle": "2022-01-28T15:44:15.448694Z",
     "shell.execute_reply": "2022-01-28T15:44:15.448201Z",
     "shell.execute_reply.started": "2022-01-28T15:44:15.027004Z"
    },
    "tags": []
   },
   "outputs": [
    {
     "data": {
      "text/plain": [
       "<AxesSubplot:ylabel='geographic location (region and locality)'>"
      ]
     },
     "execution_count": 288,
     "metadata": {},
     "output_type": "execute_result"
    },
    {
     "data": {
      "image/png": "[encoded data removed]",
      "text/plain": [
       "<Figure size 432x288 with 1 Axes>"
      ]
     },
     "metadata": {},
     "output_type": "display_data"
    }
   ],
   "source": [
    "# df.loc[:, ['geographic location (region and locality)', 'geographic location (country and/or sea)']]\n",
    "\n",
    "# pd.unique(df['geographic location (region and locality)'])\n",
    "\n",
    "df['geographic location (region and locality)'].value_counts().plot(kind='pie')\n",
    "\n",
    "# df.plot.pie(y='geographic location (region and locality)', figsize=(5, 5))"
   ]
  }
 ],
 "metadata": {
  "interpreter": {
   "hash": "a5b97e74367631547d7229aa49ac9f7269aa0e8eb32fb7ade79670c96e50d1e2"
  },
  "kernelspec": {
   "display_name": "Python [conda env:sars-cov-2]",
   "language": "python",
   "name": "conda-env-sars-cov-2-py"
  },
  "language_info": {
   "codemirror_mode": {
    "name": "ipython",
    "version": 3
   },
   "file_extension": ".py",
   "mimetype": "text/x-python",
   "name": "python",
   "nbconvert_exporter": "python",
   "pygments_lexer": "ipython3",
   "version": "3.9.7"
  }
 },
 "nbformat": 4,
 "nbformat_minor": 5
}
